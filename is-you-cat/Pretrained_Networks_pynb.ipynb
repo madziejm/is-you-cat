{
  "nbformat": 4,
  "nbformat_minor": 0,
  "metadata": {
    "accelerator": "GPU",
    "colab": {
      "name": "Pretrained-Networks.pynb",
      "provenance": [],
      "collapsed_sections": [],
      "toc_visible": true
    },
    "kernelspec": {
      "display_name": "Python 3",
      "name": "python3"
    },
    "language_info": {
      "name": "python"
    },
    "widgets": {
      "application/vnd.jupyter.widget-state+json": {
        "035911979b7942ee9298b6965c9958d8": {
          "model_module": "@jupyter-widgets/controls",
          "model_name": "HBoxModel",
          "state": {
            "_view_name": "HBoxView",
            "_dom_classes": [],
            "_model_name": "HBoxModel",
            "_view_module": "@jupyter-widgets/controls",
            "_model_module_version": "1.5.0",
            "_view_count": null,
            "_view_module_version": "1.5.0",
            "box_style": "",
            "layout": "IPY_MODEL_d3863e44557849b8bdbefa6f61dc1a38",
            "_model_module": "@jupyter-widgets/controls",
            "children": [
              "IPY_MODEL_e87752acf5a140bab2c3019a9c9c181b",
              "IPY_MODEL_08270d744be94716b5f505728a82eee9"
            ]
          }
        },
        "d3863e44557849b8bdbefa6f61dc1a38": {
          "model_module": "@jupyter-widgets/base",
          "model_name": "LayoutModel",
          "state": {
            "_view_name": "LayoutView",
            "grid_template_rows": null,
            "right": null,
            "justify_content": null,
            "_view_module": "@jupyter-widgets/base",
            "overflow": null,
            "_model_module_version": "1.2.0",
            "_view_count": null,
            "flex_flow": null,
            "width": null,
            "min_width": null,
            "border": null,
            "align_items": null,
            "bottom": null,
            "_model_module": "@jupyter-widgets/base",
            "top": null,
            "grid_column": null,
            "overflow_y": null,
            "overflow_x": null,
            "grid_auto_flow": null,
            "grid_area": null,
            "grid_template_columns": null,
            "flex": null,
            "_model_name": "LayoutModel",
            "justify_items": null,
            "grid_row": null,
            "max_height": null,
            "align_content": null,
            "visibility": null,
            "align_self": null,
            "height": null,
            "min_height": null,
            "padding": null,
            "grid_auto_rows": null,
            "grid_gap": null,
            "max_width": null,
            "order": null,
            "_view_module_version": "1.2.0",
            "grid_template_areas": null,
            "object_position": null,
            "object_fit": null,
            "grid_auto_columns": null,
            "margin": null,
            "display": null,
            "left": null
          }
        },
        "e87752acf5a140bab2c3019a9c9c181b": {
          "model_module": "@jupyter-widgets/controls",
          "model_name": "FloatProgressModel",
          "state": {
            "_view_name": "ProgressView",
            "style": "IPY_MODEL_15f4424368b5489bb7f99e2543361f9d",
            "_dom_classes": [],
            "description": "100%",
            "_model_name": "FloatProgressModel",
            "bar_style": "success",
            "max": 10306551,
            "_view_module": "@jupyter-widgets/controls",
            "_model_module_version": "1.5.0",
            "value": 10306551,
            "_view_count": null,
            "_view_module_version": "1.5.0",
            "orientation": "horizontal",
            "min": 0,
            "description_tooltip": null,
            "_model_module": "@jupyter-widgets/controls",
            "layout": "IPY_MODEL_af2ef6a7300d4de682dd78b13e7002b7"
          }
        },
        "08270d744be94716b5f505728a82eee9": {
          "model_module": "@jupyter-widgets/controls",
          "model_name": "HTMLModel",
          "state": {
            "_view_name": "HTMLView",
            "style": "IPY_MODEL_2773df2add194eabbf23cfa641d35626",
            "_dom_classes": [],
            "description": "",
            "_model_name": "HTMLModel",
            "placeholder": "​",
            "_view_module": "@jupyter-widgets/controls",
            "_model_module_version": "1.5.0",
            "value": " 9.83M/9.83M [00:11&lt;00:00, 914kB/s]",
            "_view_count": null,
            "_view_module_version": "1.5.0",
            "description_tooltip": null,
            "_model_module": "@jupyter-widgets/controls",
            "layout": "IPY_MODEL_f80b5d84bbcc4497ab0798791c3eebc2"
          }
        },
        "15f4424368b5489bb7f99e2543361f9d": {
          "model_module": "@jupyter-widgets/controls",
          "model_name": "ProgressStyleModel",
          "state": {
            "_view_name": "StyleView",
            "_model_name": "ProgressStyleModel",
            "description_width": "initial",
            "_view_module": "@jupyter-widgets/base",
            "_model_module_version": "1.5.0",
            "_view_count": null,
            "_view_module_version": "1.2.0",
            "bar_color": null,
            "_model_module": "@jupyter-widgets/controls"
          }
        },
        "af2ef6a7300d4de682dd78b13e7002b7": {
          "model_module": "@jupyter-widgets/base",
          "model_name": "LayoutModel",
          "state": {
            "_view_name": "LayoutView",
            "grid_template_rows": null,
            "right": null,
            "justify_content": null,
            "_view_module": "@jupyter-widgets/base",
            "overflow": null,
            "_model_module_version": "1.2.0",
            "_view_count": null,
            "flex_flow": null,
            "width": null,
            "min_width": null,
            "border": null,
            "align_items": null,
            "bottom": null,
            "_model_module": "@jupyter-widgets/base",
            "top": null,
            "grid_column": null,
            "overflow_y": null,
            "overflow_x": null,
            "grid_auto_flow": null,
            "grid_area": null,
            "grid_template_columns": null,
            "flex": null,
            "_model_name": "LayoutModel",
            "justify_items": null,
            "grid_row": null,
            "max_height": null,
            "align_content": null,
            "visibility": null,
            "align_self": null,
            "height": null,
            "min_height": null,
            "padding": null,
            "grid_auto_rows": null,
            "grid_gap": null,
            "max_width": null,
            "order": null,
            "_view_module_version": "1.2.0",
            "grid_template_areas": null,
            "object_position": null,
            "object_fit": null,
            "grid_auto_columns": null,
            "margin": null,
            "display": null,
            "left": null
          }
        },
        "2773df2add194eabbf23cfa641d35626": {
          "model_module": "@jupyter-widgets/controls",
          "model_name": "DescriptionStyleModel",
          "state": {
            "_view_name": "StyleView",
            "_model_name": "DescriptionStyleModel",
            "description_width": "",
            "_view_module": "@jupyter-widgets/base",
            "_model_module_version": "1.5.0",
            "_view_count": null,
            "_view_module_version": "1.2.0",
            "_model_module": "@jupyter-widgets/controls"
          }
        },
        "f80b5d84bbcc4497ab0798791c3eebc2": {
          "model_module": "@jupyter-widgets/base",
          "model_name": "LayoutModel",
          "state": {
            "_view_name": "LayoutView",
            "grid_template_rows": null,
            "right": null,
            "justify_content": null,
            "_view_module": "@jupyter-widgets/base",
            "overflow": null,
            "_model_module_version": "1.2.0",
            "_view_count": null,
            "flex_flow": null,
            "width": null,
            "min_width": null,
            "border": null,
            "align_items": null,
            "bottom": null,
            "_model_module": "@jupyter-widgets/base",
            "top": null,
            "grid_column": null,
            "overflow_y": null,
            "overflow_x": null,
            "grid_auto_flow": null,
            "grid_area": null,
            "grid_template_columns": null,
            "flex": null,
            "_model_name": "LayoutModel",
            "justify_items": null,
            "grid_row": null,
            "max_height": null,
            "align_content": null,
            "visibility": null,
            "align_self": null,
            "height": null,
            "min_height": null,
            "padding": null,
            "grid_auto_rows": null,
            "grid_gap": null,
            "max_width": null,
            "order": null,
            "_view_module_version": "1.2.0",
            "grid_template_areas": null,
            "object_position": null,
            "object_fit": null,
            "grid_auto_columns": null,
            "margin": null,
            "display": null,
            "left": null
          }
        }
      }
    }
  },
  "cells": [
    {
      "cell_type": "code",
      "metadata": {
        "id": "D5ptr1zhe2Up",
        "colab": {
          "base_uri": "https://localhost:8080/"
        },
        "outputId": "9e393058-15b7-4823-a443-19c731be7481"
      },
      "source": [
        "!pip install torchinfo"
      ],
      "execution_count": 1,
      "outputs": [
        {
          "output_type": "stream",
          "text": [
            "Collecting torchinfo\n",
            "  Downloading https://files.pythonhosted.org/packages/85/8d/153dc4096d2a64e1324af5fd17d3a2a19ab8051bc1e4ce375276bc0fc341/torchinfo-0.1.3-py3-none-any.whl\n",
            "Installing collected packages: torchinfo\n",
            "Successfully installed torchinfo-0.1.3\n"
          ],
          "name": "stdout"
        }
      ]
    },
    {
      "cell_type": "code",
      "metadata": {
        "id": "Pp0arGnoplrF",
        "colab": {
          "base_uri": "https://localhost:8080/"
        },
        "outputId": "6c965bf7-a12a-4bf3-a2be-0be3aaf7e323"
      },
      "source": [
        "import os\n",
        "import gc\n",
        "\n",
        "import numpy as np\n",
        "\n",
        "import torch\n",
        "from torch import nn\n",
        "from torch.utils.data import Dataset, DataLoader\n",
        "\n",
        "from torchvision import datasets, transforms\n",
        "import torchvision.models as models\n",
        "from torchinfo import summary\n",
        "\n",
        "%pylab inline"
      ],
      "execution_count": 18,
      "outputs": [
        {
          "output_type": "stream",
          "text": [
            "Populating the interactive namespace from numpy and matplotlib\n"
          ],
          "name": "stdout"
        }
      ]
    },
    {
      "cell_type": "code",
      "metadata": {
        "id": "Ahwp4-8qrA6E",
        "colab": {
          "base_uri": "https://localhost:8080/"
        },
        "outputId": "6987cd9d-4fd3-4e93-a751-e659172080c2"
      },
      "source": [
        "!bash get_data.sh"
      ],
      "execution_count": 11,
      "outputs": [
        {
          "output_type": "stream",
          "text": [
            "Downloading Dataset\n",
            "kagglecatsanddogs_3 100%[===================>] 786.68M   122MB/s    in 7.9s    \n",
            "Downloading...\n",
            "From: https://drive.google.com/u/0/uc?id=10NIeg2v6b9SzBBkqzbxUT_xTTgzIjsmv\n",
            "To: /content/Dataset/101_ObjectCategories.tar.gz\n",
            "132MB [00:02, 65.1MB/s]\n",
            "Unziping... OK\n"
          ],
          "name": "stdout"
        }
      ]
    },
    {
      "cell_type": "markdown",
      "metadata": {
        "id": "L4Ug5S35a4op"
      },
      "source": [
        "## Utils"
      ]
    },
    {
      "cell_type": "code",
      "metadata": {
        "id": "RueZGizxa7iO"
      },
      "source": [
        "def save_model(path, model):\n",
        "    example = torch.rand(1, 3, 224, 224)\n",
        "    traced_script_module = torch.jit.trace(model.cpu(), example)\n",
        "    traced_script_module.save(path+\"_trace\")\n",
        "    torch.save(model, path+\"_torch\")"
      ],
      "execution_count": 14,
      "outputs": []
    },
    {
      "cell_type": "markdown",
      "metadata": {
        "id": "zmgMH_BLQFoH"
      },
      "source": [
        "## Training\n",
        "This cell uses starter code from University of Wrocław Neural Network Course - [Assignment 3](https://github.com/janchorowski/dl_uwr)"
      ]
    },
    {
      "cell_type": "code",
      "metadata": {
        "id": "SEZD6CRIviGU"
      },
      "source": [
        "def compute_error_rate(model, data_loader, cuda=True):\n",
        "    model.eval()\n",
        "    num_errs = 0.0\n",
        "    num_examples = 0\n",
        "    pred_fun = nn.Sigmoid()\n",
        "    for x, y in data_loader:\n",
        "        if cuda:\n",
        "            x = x.cuda()\n",
        "            y = y.cuda()\n",
        "\n",
        "        with torch.no_grad():\n",
        "            outputs = model.forward(x).view(-1)\n",
        "            predictions = pred_fun(outputs) > 0.5\n",
        "            num_errs += (predictions != y).sum().item()\n",
        "            num_examples += x.size(0)\n",
        "    return 100.0 * num_errs / num_examples\n",
        "\n",
        "\n",
        "def train(\n",
        "    model, \n",
        "    data_loaders, \n",
        "    optimizer, \n",
        "    criterion, \n",
        "    num_epochs=1, \n",
        "    log_every=100, \n",
        "    cuda=True,\n",
        "    verbose=True):\n",
        "\n",
        "    if cuda:\n",
        "        model.cuda()\n",
        "\n",
        "    iter_ = 0\n",
        "    epoch = 0\n",
        "    best_params = None\n",
        "    best_val_err = np.inf\n",
        "    history = {\"train_losses\": [], \"train_errs\": [], \"val_errs\": []}\n",
        "    pred_fun = nn.Sigmoid()\n",
        "\n",
        "    if verbose:\n",
        "        print(\"Training the model!\")\n",
        "        print(\"You can interrupt it at any time.\")\n",
        "    try:\n",
        "        while epoch < num_epochs:\n",
        "            model.train()\n",
        "            gc.collect()\n",
        "            epoch += 1\n",
        "\n",
        "            for x, y in data_loaders[\"train\"]:\n",
        "\n",
        "                if cuda:\n",
        "                    x = x.cuda()\n",
        "                    y = y.cuda()\n",
        "\n",
        "                iter_ += 1\n",
        "                optimizer.zero_grad()\n",
        "                out = model(x).view(-1)\n",
        "\n",
        "                loss = criterion(out, y.float())\n",
        "                loss.backward()\n",
        "                optimizer.step()\n",
        "                predictions = pred_fun(out) > 0.5\n",
        "                err_rate = 100.0 * (predictions != y).sum() / y.size(0)\n",
        "\n",
        "                history[\"train_losses\"].append(loss.item())\n",
        "                history[\"train_errs\"].append(err_rate.item())\n",
        "\n",
        "                                \n",
        "                if iter_ % log_every == 0 and verbose:\n",
        "                    print(\n",
        "                        \"Minibatch {0: >6}  | loss {1: >5.2f} | err rate {2: >5.2f}%\".format(\n",
        "                            iter_, loss.item(), err_rate\n",
        "                        )\n",
        "                    )\n",
        "\n",
        "            val_err_rate = compute_error_rate(model, data_loaders[\"val\"], cuda)\n",
        "            history[\"val_errs\"].append((iter_, val_err_rate))\n",
        "\n",
        "            if val_err_rate < best_val_err:\n",
        "        \n",
        "                best_epoch = epoch\n",
        "                best_val_err = val_err_rate\n",
        "                best_params = [p.detach().cpu() for p in model.parameters()]\n",
        "                \n",
        "            m = \"After epoch {0: >2} | valid err rate: {1: >5.2f}% | doing {2: >3} epochs\".format(\n",
        "                epoch, val_err_rate, num_epochs\n",
        "            )\n",
        "            if verbose:\n",
        "                print(\"{0}\\n{1}\\n{0}\".format(\"-\" * len(m), m))\n",
        "\n",
        "    except KeyboardInterrupt:\n",
        "        pass\n",
        "    if best_params is not None and verbose:\n",
        "        print(\"\\nLoading best params on validation set (epoch %d)\\n\" % (best_epoch))\n",
        "        with torch.no_grad():\n",
        "            for param, best_param in zip(model.parameters(), best_params):\n",
        "                param[...] = best_param\n",
        "    if verbose:\n",
        "       plot_history(history)\n",
        "\n",
        "def plot_history(history):\n",
        "    figsize(16, 4)\n",
        "    subplot(1, 2, 1)\n",
        "    train_loss = np.array(history[\"train_losses\"])\n",
        "    semilogy(np.arange(train_loss.shape[0]), train_loss, label=\"batch train loss\")\n",
        "    legend()\n",
        "\n",
        "    subplot(1, 2, 2)\n",
        "    train_errs = np.array(history[\"train_errs\"])\n",
        "    plot(np.arange(train_errs.shape[0]), train_errs, label=\"batch train error rate\")\n",
        "    val_errs = np.array(history[\"val_errs\"])\n",
        "    plot(val_errs[:, 0], val_errs[:, 1], label=\"validation error rate\", color=\"r\")\n",
        "    ylim(0, 20)\n",
        "    legend()"
      ],
      "execution_count": 15,
      "outputs": []
    },
    {
      "cell_type": "markdown",
      "metadata": {
        "id": "h-POXajuQgF9"
      },
      "source": [
        "# Dataset"
      ]
    },
    {
      "cell_type": "code",
      "metadata": {
        "id": "Pf1oNCL-Uv7f"
      },
      "source": [
        "class Subset(Dataset):\n",
        "    r\"\"\"\n",
        "    Subset of a dataset at specified indices.\n",
        "\n",
        "    Arguments:\n",
        "        dataset (Dataset): The whole Dataset\n",
        "        indices (sequence): Indices in the whole set selected for subset\n",
        "    \"\"\"\n",
        "    def __init__(self, dataset, indices, transform):\n",
        "        self.dataset = dataset\n",
        "        self.indices = indices\n",
        "        self.transform = transform\n",
        "\n",
        "    def __getitem__(self, idx):\n",
        "        im, labels = self.dataset[self.indices[idx]]\n",
        "        return self.transform(im), labels\n",
        "\n",
        "    def __len__(self):\n",
        "        return len(self.indices)"
      ],
      "execution_count": 20,
      "outputs": []
    },
    {
      "cell_type": "markdown",
      "metadata": {
        "id": "KH2JZs9RQh1z"
      },
      "source": [
        "### Cats from catsvsdogs kaggledataset for Cat images and CalltechDataset for NonCats images"
      ]
    },
    {
      "cell_type": "code",
      "metadata": {
        "id": "EB7urwhVbItw",
        "colab": {
          "base_uri": "https://localhost:8080/"
        },
        "outputId": "34a030ea-272b-4f76-b693-5b97ec6f219b"
      },
      "source": [
        "path = '/content/Dataset'\n",
        "caltech_and_cats = datasets.ImageFolder(path)\n",
        "print(f\"Dataset Size: {len(caltech_and_cats)}\")\n",
        "print(f\"Dataset Classes: {caltech_and_cats.classes}\")\n",
        "print(f\"Number of Cats: {sum(np.array(caltech_and_cats.targets)==0)}\")\n",
        "print(f\"Number of NonCats: {sum(np.array(caltech_and_cats.targets)==1)}\")\n",
        "assert len(caltech_and_cats.classes) == 2, \"if not restart notebook\""
      ],
      "execution_count": 21,
      "outputs": [
        {
          "output_type": "stream",
          "text": [
            "Dataset Size: 21643\n",
            "Dataset Classes: ['Cats', 'NonCats']\n",
            "Number of Cats: 12499\n",
            "Number of NonCats: 9144\n"
          ],
          "name": "stdout"
        }
      ]
    },
    {
      "cell_type": "markdown",
      "metadata": {
        "id": "6goFOivgSexH"
      },
      "source": [
        "### Standard Imagenet Transforms ( We are using model pretrained on imagenet)"
      ]
    },
    {
      "cell_type": "code",
      "metadata": {
        "id": "FvGeWYMeSeO7"
      },
      "source": [
        "image_net_transforms = transforms.Compose(\n",
        "        [\n",
        "            transforms.ToTensor(),\n",
        "            transforms.Resize(256),\n",
        "            transforms.CenterCrop(224),\n",
        "            transforms.Normalize((0.485, 0.456, 0.406), (0.229, 0.224, 0.225))\n",
        "        ]\n",
        "    )"
      ],
      "execution_count": 22,
      "outputs": []
    },
    {
      "cell_type": "markdown",
      "metadata": {
        "id": "Hc5_dlSUSozk"
      },
      "source": [
        "### Dataset split 80-10-10"
      ]
    },
    {
      "cell_type": "code",
      "metadata": {
        "id": "DwBhdZ7iSs3I"
      },
      "source": [
        "all_indexes = np.random.permutation(len(caltech_and_cats))\n",
        "idxs = len(all_indexes)\n",
        "train_indexes = all_indexes[:int(idxs * 0.8)]\n",
        "val_indexes = all_indexes[int(idxs * 0.8):int(idxs*0.9)]\n",
        "test_indexes = all_indexes[int(idxs * 0.9):]"
      ],
      "execution_count": 23,
      "outputs": []
    },
    {
      "cell_type": "markdown",
      "metadata": {
        "id": "zdqNDtX_T-Gk"
      },
      "source": [
        "# Train/Test Loaders"
      ]
    },
    {
      "cell_type": "code",
      "metadata": {
        "id": "TWSPjfxIsvA_"
      },
      "source": [
        "train_dataset = Subset(\n",
        "    caltech_and_cats,\n",
        "    train_indexes,\n",
        "    image_net_transforms\n",
        ")\n",
        "\n",
        "\n",
        "test_dataset = Subset(\n",
        "    caltech_and_cats,\n",
        "    val_indexes,\n",
        "    image_net_transforms\n",
        ")\n",
        "\n",
        "test_dataset = Subset(\n",
        "    caltech_and_cats,\n",
        "    test_indexes,\n",
        "    image_net_transforms\n",
        ")\n",
        "\n",
        "\n",
        "datasets_ = {\n",
        "    \"train\": train_dataset,\n",
        "    \"val\": train_dataset,\n",
        "    \"test\": train_dataset,\n",
        "}\n",
        "\n",
        "\n",
        "batch_size = 64\n",
        "\n",
        "train_data_loaders = {\n",
        "    \"train\": torch.utils.data.DataLoader(\n",
        "        datasets_[\"train\"], batch_size=batch_size, num_workers=2, shuffle=True),\n",
        "    \"val\": torch.utils.data.DataLoader(\n",
        "        datasets_[\"val\"], batch_size=batch_size, num_workers=2, shuffle=False)}\n",
        "\n",
        "test_data_loader = {\n",
        "    \"test\": torch.utils.data.DataLoader(\n",
        "        datasets_[\"test\"], batch_size=batch_size, num_workers=2, shuffle=False)}"
      ],
      "execution_count": 25,
      "outputs": []
    },
    {
      "cell_type": "markdown",
      "metadata": {
        "id": "8hwZejsGcrHp"
      },
      "source": [
        "## Plain Pretrained Models"
      ]
    },
    {
      "cell_type": "markdown",
      "metadata": {
        "id": "vCzSb5vAqItl"
      },
      "source": [
        "## MobileNet - Small"
      ]
    },
    {
      "cell_type": "code",
      "metadata": {
        "id": "Kuo9ChXRqIMB",
        "colab": {
          "base_uri": "https://localhost:8080/",
          "height": 83,
          "referenced_widgets": [
            "035911979b7942ee9298b6965c9958d8",
            "d3863e44557849b8bdbefa6f61dc1a38",
            "e87752acf5a140bab2c3019a9c9c181b",
            "08270d744be94716b5f505728a82eee9",
            "15f4424368b5489bb7f99e2543361f9d",
            "af2ef6a7300d4de682dd78b13e7002b7",
            "2773df2add194eabbf23cfa641d35626",
            "f80b5d84bbcc4497ab0798791c3eebc2"
          ]
        },
        "outputId": "9ebbf431-6147-47bf-f779-1c667543d3a6"
      },
      "source": [
        "mobilenet_v3_small = models.mobilenet_v3_small(pretrained=True)"
      ],
      "execution_count": 26,
      "outputs": [
        {
          "output_type": "stream",
          "text": [
            "Downloading: \"https://download.pytorch.org/models/mobilenet_v3_small-047dcff4.pth\" to /root/.cache/torch/hub/checkpoints/mobilenet_v3_small-047dcff4.pth\n"
          ],
          "name": "stderr"
        },
        {
          "output_type": "display_data",
          "data": {
            "application/vnd.jupyter.widget-view+json": {
              "model_id": "035911979b7942ee9298b6965c9958d8",
              "version_minor": 0,
              "version_major": 2
            },
            "text/plain": [
              "HBox(children=(FloatProgress(value=0.0, max=10306551.0), HTML(value='')))"
            ]
          },
          "metadata": {
            "tags": []
          }
        },
        {
          "output_type": "stream",
          "text": [
            "\n"
          ],
          "name": "stdout"
        }
      ]
    },
    {
      "cell_type": "code",
      "metadata": {
        "id": "2cPIdMwvq9UR"
      },
      "source": [
        "for p in mobilenet_v3_small.parameters():\n",
        "    p.requires_grad = False\n",
        "\n",
        "model = nn.Sequential(mobilenet_v3_small.features, \n",
        "                            nn.AdaptiveAvgPool2d(output_size=1),\n",
        "                            nn.Flatten(),\n",
        "                            nn.Linear(576,1))\n",
        "\n",
        "criterion = (torch.nn.BCEWithLogitsLoss())\n",
        "\n",
        "optimizer = torch.optim.Adam(model.parameters(), lr=0.0001)"
      ],
      "execution_count": 27,
      "outputs": []
    },
    {
      "cell_type": "code",
      "metadata": {
        "colab": {
          "base_uri": "https://localhost:8080/"
        },
        "id": "NSas3XDbghNs",
        "outputId": "60dac223-fb16-417c-b263-1cf6800f0af1"
      },
      "source": [
        "summary(model.cpu(), input_size=(1,3,224,224))"
      ],
      "execution_count": 28,
      "outputs": [
        {
          "output_type": "execute_result",
          "data": {
            "text/plain": [
              "===============================================================================================\n",
              "Layer (type:depth-idx)                        Output Shape              Param #\n",
              "===============================================================================================\n",
              "Sequential                                    --                        --\n",
              "├─Sequential: 1-1                             [1, 576, 7, 7]            --\n",
              "│    └─ConvBNActivation: 2-1                  [1, 16, 112, 112]         --\n",
              "│    │    └─Conv2d: 3-1                       [1, 16, 112, 112]         (432)\n",
              "│    │    └─BatchNorm2d: 3-2                  [1, 16, 112, 112]         (32)\n",
              "│    │    └─Hardswish: 3-3                    [1, 16, 112, 112]         --\n",
              "│    └─InvertedResidual: 2-2                  [1, 16, 56, 56]           --\n",
              "│    │    └─Sequential: 3-4                   [1, 16, 56, 56]           (744)\n",
              "│    └─InvertedResidual: 2-3                  [1, 24, 28, 28]           --\n",
              "│    │    └─Sequential: 3-5                   [1, 24, 28, 28]           (3,864)\n",
              "│    └─InvertedResidual: 2-4                  [1, 24, 28, 28]           --\n",
              "│    │    └─Sequential: 3-6                   [1, 24, 28, 28]           (5,416)\n",
              "│    └─InvertedResidual: 2-5                  [1, 40, 14, 14]           --\n",
              "│    │    └─Sequential: 3-7                   [1, 40, 14, 14]           (13,736)\n",
              "│    └─InvertedResidual: 2-6                  [1, 40, 14, 14]           --\n",
              "│    │    └─Sequential: 3-8                   [1, 40, 14, 14]           (57,264)\n",
              "│    └─InvertedResidual: 2-7                  [1, 40, 14, 14]           --\n",
              "│    │    └─Sequential: 3-9                   [1, 40, 14, 14]           (57,264)\n",
              "│    └─InvertedResidual: 2-8                  [1, 48, 14, 14]           --\n",
              "│    │    └─Sequential: 3-10                  [1, 48, 14, 14]           (21,968)\n",
              "│    └─InvertedResidual: 2-9                  [1, 48, 14, 14]           --\n",
              "│    │    └─Sequential: 3-11                  [1, 48, 14, 14]           (29,800)\n",
              "│    └─InvertedResidual: 2-10                 [1, 96, 7, 7]             --\n",
              "│    │    └─Sequential: 3-12                  [1, 96, 7, 7]             (91,848)\n",
              "│    └─InvertedResidual: 2-11                 [1, 96, 7, 7]             --\n",
              "│    │    └─Sequential: 3-13                  [1, 96, 7, 7]             (294,096)\n",
              "│    └─InvertedResidual: 2-12                 [1, 96, 7, 7]             --\n",
              "│    │    └─Sequential: 3-14                  [1, 96, 7, 7]             (294,096)\n",
              "│    └─ConvBNActivation: 2-13                 [1, 576, 7, 7]            --\n",
              "│    │    └─Conv2d: 3-15                      [1, 576, 7, 7]            (55,296)\n",
              "│    │    └─BatchNorm2d: 3-16                 [1, 576, 7, 7]            (1,152)\n",
              "│    │    └─Hardswish: 3-17                   [1, 576, 7, 7]            --\n",
              "├─AdaptiveAvgPool2d: 1-2                      [1, 576, 1, 1]            --\n",
              "├─Flatten: 1-3                                [1, 576]                  --\n",
              "├─Linear: 1-4                                 [1, 1]                    577\n",
              "===============================================================================================\n",
              "Total params: 927,585\n",
              "Trainable params: 577\n",
              "Non-trainable params: 927,008\n",
              "Total mult-adds (M): 54.91\n",
              "===============================================================================================\n",
              "Input size (MB): 0.60\n",
              "Forward/backward pass size (MB): 22.63\n",
              "Params size (MB): 3.71\n",
              "Estimated Total Size (MB): 26.94\n",
              "==============================================================================================="
            ]
          },
          "metadata": {
            "tags": []
          },
          "execution_count": 28
        }
      ]
    },
    {
      "cell_type": "code",
      "metadata": {
        "colab": {
          "base_uri": "https://localhost:8080/",
          "height": 813
        },
        "id": "JAA0g5tZsAgj",
        "outputId": "95676234-1625-4fbf-fd1a-9d4c84d1181f"
      },
      "source": [
        "train(\n",
        "    model, \n",
        "    train_data_loaders, \n",
        "    optimizer, \n",
        "    criterion, \n",
        "    num_epochs=5, \n",
        "    log_every=100, \n",
        "    cuda=True,\n",
        "    verbose=True)"
      ],
      "execution_count": 29,
      "outputs": [
        {
          "output_type": "stream",
          "text": [
            "Training the model!\n",
            "You can interrupt it at any time.\n",
            "Minibatch    100  | loss  0.55 | err rate 31.25%\n",
            "Minibatch    200  | loss  0.48 | err rate 17.19%\n",
            "----------------------------------------------------------\n",
            "After epoch  1 | valid err rate:  7.51% | doing   5 epochs\n",
            "----------------------------------------------------------\n",
            "Minibatch    300  | loss  0.36 | err rate  6.25%\n",
            "Minibatch    400  | loss  0.32 | err rate  4.69%\n",
            "Minibatch    500  | loss  0.27 | err rate  3.12%\n",
            "----------------------------------------------------------\n",
            "After epoch  2 | valid err rate:  3.97% | doing   5 epochs\n",
            "----------------------------------------------------------\n",
            "Minibatch    600  | loss  0.26 | err rate  3.12%\n",
            "Minibatch    700  | loss  0.25 | err rate  3.12%\n",
            "Minibatch    800  | loss  0.16 | err rate  0.00%\n",
            "----------------------------------------------------------\n",
            "After epoch  3 | valid err rate:  3.21% | doing   5 epochs\n",
            "----------------------------------------------------------\n",
            "Minibatch   1000  | loss  0.22 | err rate  6.25%\n",
            "----------------------------------------------------------\n",
            "After epoch  4 | valid err rate:  2.92% | doing   5 epochs\n",
            "----------------------------------------------------------\n",
            "Minibatch   1100  | loss  0.16 | err rate  3.12%\n",
            "Minibatch   1200  | loss  0.14 | err rate  0.00%\n",
            "Minibatch   1300  | loss  0.12 | err rate  1.56%\n",
            "----------------------------------------------------------\n",
            "After epoch  5 | valid err rate:  2.71% | doing   5 epochs\n",
            "----------------------------------------------------------\n",
            "\n",
            "Loading best params on validation set (epoch 5)\n",
            "\n"
          ],
          "name": "stdout"
        },
        {
          "output_type": "display_data",
          "data": {
            "image/png": "[encoded data removed]",
            "text/plain": [
              "<Figure size 1152x288 with 2 Axes>"
            ]
          },
          "metadata": {
            "tags": [],
            "needs_background": "light"
          }
        }
      ]
    },
    {
      "cell_type": "code",
      "metadata": {
        "id": "izVA4zJZhJmk"
      },
      "source": [
        "save_model('MobileNetV3_small', model)"
      ],
      "execution_count": 30,
      "outputs": []
    }
  ]
}