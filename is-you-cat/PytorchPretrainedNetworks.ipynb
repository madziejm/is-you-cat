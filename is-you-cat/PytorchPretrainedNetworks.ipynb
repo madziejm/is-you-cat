{
  "nbformat": 4,
  "nbformat_minor": 0,
  "metadata": {
    "accelerator": "GPU",
    "colab": {
      "name": "Pretrained-Networks.pynb",
      "provenance": [],
      "collapsed_sections": [],
      "toc_visible": true
    },
    "kernelspec": {
      "display_name": "Python 3",
      "name": "python3"
    },
    "language_info": {
      "name": "python"
    },
    "widgets": {
      "application/vnd.jupyter.widget-state+json": {
        "99e4f9ef679244368181cabd45594e95": {
          "model_module": "@jupyter-widgets/controls",
          "model_name": "HBoxModel",
          "state": {
            "_view_name": "HBoxView",
            "_dom_classes": [],
            "_model_name": "HBoxModel",
            "_view_module": "@jupyter-widgets/controls",
            "_model_module_version": "1.5.0",
            "_view_count": null,
            "_view_module_version": "1.5.0",
            "box_style": "",
            "layout": "IPY_MODEL_3e49d79f357e40eca57f13dd47bac5c2",
            "_model_module": "@jupyter-widgets/controls",
            "children": [
              "IPY_MODEL_0eff7323cd5d46399debf769ca70120a",
              "IPY_MODEL_26858b512e9a401785e5c7db83e8bbca"
            ]
          }
        },
        "3e49d79f357e40eca57f13dd47bac5c2": {
          "model_module": "@jupyter-widgets/base",
          "model_name": "LayoutModel",
          "state": {
            "_view_name": "LayoutView",
            "grid_template_rows": null,
            "right": null,
            "justify_content": null,
            "_view_module": "@jupyter-widgets/base",
            "overflow": null,
            "_model_module_version": "1.2.0",
            "_view_count": null,
            "flex_flow": null,
            "width": null,
            "min_width": null,
            "border": null,
            "align_items": null,
            "bottom": null,
            "_model_module": "@jupyter-widgets/base",
            "top": null,
            "grid_column": null,
            "overflow_y": null,
            "overflow_x": null,
            "grid_auto_flow": null,
            "grid_area": null,
            "grid_template_columns": null,
            "flex": null,
            "_model_name": "LayoutModel",
            "justify_items": null,
            "grid_row": null,
            "max_height": null,
            "align_content": null,
            "visibility": null,
            "align_self": null,
            "height": null,
            "min_height": null,
            "padding": null,
            "grid_auto_rows": null,
            "grid_gap": null,
            "max_width": null,
            "order": null,
            "_view_module_version": "1.2.0",
            "grid_template_areas": null,
            "object_position": null,
            "object_fit": null,
            "grid_auto_columns": null,
            "margin": null,
            "display": null,
            "left": null
          }
        },
        "0eff7323cd5d46399debf769ca70120a": {
          "model_module": "@jupyter-widgets/controls",
          "model_name": "FloatProgressModel",
          "state": {
            "_view_name": "ProgressView",
            "style": "IPY_MODEL_0c2049c0270c4564a3e5d73fdb77c5c9",
            "_dom_classes": [],
            "description": "100%",
            "_model_name": "FloatProgressModel",
            "bar_style": "success",
            "max": 10306551,
            "_view_module": "@jupyter-widgets/controls",
            "_model_module_version": "1.5.0",
            "value": 10306551,
            "_view_count": null,
            "_view_module_version": "1.5.0",
            "orientation": "horizontal",
            "min": 0,
            "description_tooltip": null,
            "_model_module": "@jupyter-widgets/controls",
            "layout": "IPY_MODEL_07498dd2c682403c8b25a163ac416b78"
          }
        },
        "26858b512e9a401785e5c7db83e8bbca": {
          "model_module": "@jupyter-widgets/controls",
          "model_name": "HTMLModel",
          "state": {
            "_view_name": "HTMLView",
            "style": "IPY_MODEL_9f826b4455a6481191a2336624ee18e4",
            "_dom_classes": [],
            "description": "",
            "_model_name": "HTMLModel",
            "placeholder": "​",
            "_view_module": "@jupyter-widgets/controls",
            "_model_module_version": "1.5.0",
            "value": " 9.83M/9.83M [00:00&lt;00:00, 66.3MB/s]",
            "_view_count": null,
            "_view_module_version": "1.5.0",
            "description_tooltip": null,
            "_model_module": "@jupyter-widgets/controls",
            "layout": "IPY_MODEL_d3fd46854c65458fb84470b6cd475edb"
          }
        },
        "0c2049c0270c4564a3e5d73fdb77c5c9": {
          "model_module": "@jupyter-widgets/controls",
          "model_name": "ProgressStyleModel",
          "state": {
            "_view_name": "StyleView",
            "_model_name": "ProgressStyleModel",
            "description_width": "initial",
            "_view_module": "@jupyter-widgets/base",
            "_model_module_version": "1.5.0",
            "_view_count": null,
            "_view_module_version": "1.2.0",
            "bar_color": null,
            "_model_module": "@jupyter-widgets/controls"
          }
        },
        "07498dd2c682403c8b25a163ac416b78": {
          "model_module": "@jupyter-widgets/base",
          "model_name": "LayoutModel",
          "state": {
            "_view_name": "LayoutView",
            "grid_template_rows": null,
            "right": null,
            "justify_content": null,
            "_view_module": "@jupyter-widgets/base",
            "overflow": null,
            "_model_module_version": "1.2.0",
            "_view_count": null,
            "flex_flow": null,
            "width": null,
            "min_width": null,
            "border": null,
            "align_items": null,
            "bottom": null,
            "_model_module": "@jupyter-widgets/base",
            "top": null,
            "grid_column": null,
            "overflow_y": null,
            "overflow_x": null,
            "grid_auto_flow": null,
            "grid_area": null,
            "grid_template_columns": null,
            "flex": null,
            "_model_name": "LayoutModel",
            "justify_items": null,
            "grid_row": null,
            "max_height": null,
            "align_content": null,
            "visibility": null,
            "align_self": null,
            "height": null,
            "min_height": null,
            "padding": null,
            "grid_auto_rows": null,
            "grid_gap": null,
            "max_width": null,
            "order": null,
            "_view_module_version": "1.2.0",
            "grid_template_areas": null,
            "object_position": null,
            "object_fit": null,
            "grid_auto_columns": null,
            "margin": null,
            "display": null,
            "left": null
          }
        },
        "9f826b4455a6481191a2336624ee18e4": {
          "model_module": "@jupyter-widgets/controls",
          "model_name": "DescriptionStyleModel",
          "state": {
            "_view_name": "StyleView",
            "_model_name": "DescriptionStyleModel",
            "description_width": "",
            "_view_module": "@jupyter-widgets/base",
            "_model_module_version": "1.5.0",
            "_view_count": null,
            "_view_module_version": "1.2.0",
            "_model_module": "@jupyter-widgets/controls"
          }
        },
        "d3fd46854c65458fb84470b6cd475edb": {
          "model_module": "@jupyter-widgets/base",
          "model_name": "LayoutModel",
          "state": {
            "_view_name": "LayoutView",
            "grid_template_rows": null,
            "right": null,
            "justify_content": null,
            "_view_module": "@jupyter-widgets/base",
            "overflow": null,
            "_model_module_version": "1.2.0",
            "_view_count": null,
            "flex_flow": null,
            "width": null,
            "min_width": null,
            "border": null,
            "align_items": null,
            "bottom": null,
            "_model_module": "@jupyter-widgets/base",
            "top": null,
            "grid_column": null,
            "overflow_y": null,
            "overflow_x": null,
            "grid_auto_flow": null,
            "grid_area": null,
            "grid_template_columns": null,
            "flex": null,
            "_model_name": "LayoutModel",
            "justify_items": null,
            "grid_row": null,
            "max_height": null,
            "align_content": null,
            "visibility": null,
            "align_self": null,
            "height": null,
            "min_height": null,
            "padding": null,
            "grid_auto_rows": null,
            "grid_gap": null,
            "max_width": null,
            "order": null,
            "_view_module_version": "1.2.0",
            "grid_template_areas": null,
            "object_position": null,
            "object_fit": null,
            "grid_auto_columns": null,
            "margin": null,
            "display": null,
            "left": null
          }
        }
      }
    }
  },
  "cells": [
    {
      "cell_type": "code",
      "metadata": {
        "id": "D5ptr1zhe2Up",
        "colab": {
          "base_uri": "https://localhost:8080/"
        },
        "outputId": "442d4440-b4ae-4b02-ddb9-6aa04f687b94"
      },
      "source": [
        "!pip install torchinfo"
      ],
      "execution_count": null,
      "outputs": [
        {
          "output_type": "stream",
          "text": [
            "Requirement already satisfied: torchinfo in /usr/local/lib/python3.7/dist-packages (0.1.3)\n"
          ],
          "name": "stdout"
        }
      ]
    },
    {
      "cell_type": "code",
      "metadata": {
        "id": "Pp0arGnoplrF",
        "colab": {
          "base_uri": "https://localhost:8080/"
        },
        "outputId": "c106728c-8713-4e35-a38c-4d5e09c0684f"
      },
      "source": [
        "import os\n",
        "import gc\n",
        "\n",
        "import numpy as np\n",
        "\n",
        "import torch\n",
        "from torch import nn\n",
        "from torch.utils.data import Dataset, DataLoader\n",
        "\n",
        "from torchvision import datasets, transforms\n",
        "import torchvision.models as models\n",
        "from torchinfo import summary\n",
        "\n",
        "%pylab inline"
      ],
      "execution_count": null,
      "outputs": [
        {
          "output_type": "stream",
          "text": [
            "Populating the interactive namespace from numpy and matplotlib\n"
          ],
          "name": "stdout"
        }
      ]
    },
    {
      "cell_type": "code",
      "metadata": {
        "id": "Ahwp4-8qrA6E",
        "colab": {
          "base_uri": "https://localhost:8080/"
        },
        "outputId": "ec0ed06d-d511-40d5-bec0-fbda5ea3f68b"
      },
      "source": [
        "!bash get_data.sh"
      ],
      "execution_count": null,
      "outputs": [
        {
          "output_type": "stream",
          "text": [
            "Downloading Dataset\n",
            "kagglecatsanddogs_3 100%[===================>] 786.68M   118MB/s    in 6.3s    \n",
            "Downloading...\n",
            "From: https://drive.google.com/u/0/uc?id=10NIeg2v6b9SzBBkqzbxUT_xTTgzIjsmv\n",
            "To: /content/Dataset/101_ObjectCategories.tar.gz\n",
            "132MB [00:01, 124MB/s] \n",
            "Unziping... OK\n"
          ],
          "name": "stdout"
        }
      ]
    },
    {
      "cell_type": "markdown",
      "metadata": {
        "id": "L4Ug5S35a4op"
      },
      "source": [
        "## Utils"
      ]
    },
    {
      "cell_type": "code",
      "metadata": {
        "id": "RueZGizxa7iO"
      },
      "source": [
        "def save_model(path, model):\n",
        "    example = torch.rand(1, 3, 224, 224)\n",
        "    traced_script_module = torch.jit.trace(model.cpu(), example)\n",
        "    traced_script_module.save(path+\"_trace\")\n",
        "    torch.save(model, path+\"_torch\")"
      ],
      "execution_count": null,
      "outputs": []
    },
    {
      "cell_type": "markdown",
      "metadata": {
        "id": "zmgMH_BLQFoH"
      },
      "source": [
        "## Training\n",
        "This cell uses starter code from University of Wrocław Neural Network Course - [Assignment 3](https://github.com/janchorowski/dl_uwr)"
      ]
    },
    {
      "cell_type": "code",
      "metadata": {
        "id": "SEZD6CRIviGU"
      },
      "source": [
        "def compute_error_rate(model, data_loader, cuda=True):\n",
        "    model.eval()\n",
        "    num_errs = 0.0\n",
        "    num_examples = 0\n",
        "    pred_fun = nn.Sigmoid()\n",
        "    for x, y in data_loader:\n",
        "        if cuda:\n",
        "            x = x.cuda()\n",
        "            y = y.cuda()\n",
        "\n",
        "        with torch.no_grad():\n",
        "            outputs = model.forward(x).view(-1)\n",
        "            predictions = pred_fun(outputs) > 0.5\n",
        "            num_errs += (predictions != y).sum().item()\n",
        "            num_examples += x.size(0)\n",
        "    return 100.0 * num_errs / num_examples\n",
        "\n",
        "\n",
        "def train(\n",
        "    model, \n",
        "    data_loaders, \n",
        "    optimizer, \n",
        "    criterion, \n",
        "    num_epochs=1, \n",
        "    log_every=100, \n",
        "    cuda=True,\n",
        "    verbose=True):\n",
        "\n",
        "    if cuda:\n",
        "        model.cuda()\n",
        "\n",
        "    iter_ = 0\n",
        "    epoch = 0\n",
        "    best_params = None\n",
        "    best_val_err = np.inf\n",
        "    history = {\"train_losses\": [], \"train_errs\": [], \"val_errs\": []}\n",
        "    pred_fun = nn.Sigmoid()\n",
        "\n",
        "    if verbose:\n",
        "        print(\"Training the model!\")\n",
        "        print(\"You can interrupt it at any time.\")\n",
        "    try:\n",
        "        while epoch < num_epochs:\n",
        "            model.train()\n",
        "            gc.collect()\n",
        "            epoch += 1\n",
        "\n",
        "            for x, y in data_loaders[\"train\"]:\n",
        "\n",
        "                if cuda:\n",
        "                    x = x.cuda()\n",
        "                    y = y.cuda()\n",
        "\n",
        "                iter_ += 1\n",
        "                optimizer.zero_grad()\n",
        "                out = model(x).view(-1)\n",
        "\n",
        "                loss = criterion(out, y.float())\n",
        "                loss.backward()\n",
        "                optimizer.step()\n",
        "                predictions = pred_fun(out) > 0.5\n",
        "                err_rate = 100.0 * (predictions != y).sum() / y.size(0)\n",
        "\n",
        "                history[\"train_losses\"].append(loss.item())\n",
        "                history[\"train_errs\"].append(err_rate.item())\n",
        "\n",
        "                                \n",
        "                if iter_ % log_every == 0 and verbose:\n",
        "                    print(\n",
        "                        \"Minibatch {0: >6}  | loss {1: >5.2f} | err rate {2: >5.2f}%\".format(\n",
        "                            iter_, loss.item(), err_rate\n",
        "                        )\n",
        "                    )\n",
        "\n",
        "            val_err_rate = compute_error_rate(model, data_loaders[\"val\"], cuda)\n",
        "            history[\"val_errs\"].append((iter_, val_err_rate))\n",
        "\n",
        "            if val_err_rate < best_val_err:\n",
        "        \n",
        "                best_epoch = epoch\n",
        "                best_val_err = val_err_rate\n",
        "                best_params = [p.detach().cpu() for p in model.parameters()]\n",
        "                \n",
        "            m = \"After epoch {0: >2} | valid err rate: {1: >5.2f}% | doing {2: >3} epochs\".format(\n",
        "                epoch, val_err_rate, num_epochs\n",
        "            )\n",
        "            if verbose:\n",
        "                print(\"{0}\\n{1}\\n{0}\".format(\"-\" * len(m), m))\n",
        "\n",
        "    except KeyboardInterrupt:\n",
        "        pass\n",
        "    if best_params is not None and verbose:\n",
        "        print(\"\\nLoading best params on validation set (epoch %d)\\n\" % (best_epoch))\n",
        "        with torch.no_grad():\n",
        "            for param, best_param in zip(model.parameters(), best_params):\n",
        "                param[...] = best_param\n",
        "    if verbose:\n",
        "       plot_history(history)\n",
        "\n",
        "def plot_history(history):\n",
        "    figsize(16, 4)\n",
        "    subplot(1, 2, 1)\n",
        "    train_loss = np.array(history[\"train_losses\"])\n",
        "    semilogy(np.arange(train_loss.shape[0]), train_loss, label=\"batch train loss\")\n",
        "    legend()\n",
        "\n",
        "    subplot(1, 2, 2)\n",
        "    train_errs = np.array(history[\"train_errs\"])\n",
        "    plot(np.arange(train_errs.shape[0]), train_errs, label=\"batch train error rate\")\n",
        "    val_errs = np.array(history[\"val_errs\"])\n",
        "    plot(val_errs[:, 0], val_errs[:, 1], label=\"validation error rate\", color=\"r\")\n",
        "    ylim(0, 20)\n",
        "    legend()"
      ],
      "execution_count": null,
      "outputs": []
    },
    {
      "cell_type": "markdown",
      "metadata": {
        "id": "h-POXajuQgF9"
      },
      "source": [
        "# Dataset"
      ]
    },
    {
      "cell_type": "code",
      "metadata": {
        "id": "Pf1oNCL-Uv7f"
      },
      "source": [
        "class Subset(Dataset):\n",
        "    r\"\"\"\n",
        "    Subset of a dataset at specified indices.\n",
        "\n",
        "    Arguments:\n",
        "        dataset (Dataset): The whole Dataset\n",
        "        indices (sequence): Indices in the whole set selected for subset\n",
        "    \"\"\"\n",
        "    def __init__(self, dataset, indices, transform):\n",
        "        self.dataset = dataset\n",
        "        self.indices = indices\n",
        "        self.transform = transform\n",
        "\n",
        "    def __getitem__(self, idx):\n",
        "        im, labels = self.dataset[self.indices[idx]]\n",
        "        return self.transform(im), labels\n",
        "\n",
        "    def __len__(self):\n",
        "        return len(self.indices)"
      ],
      "execution_count": null,
      "outputs": []
    },
    {
      "cell_type": "markdown",
      "metadata": {
        "id": "KH2JZs9RQh1z"
      },
      "source": [
        "### Cats from catsvsdogs kaggledataset for Cat images and CalltechDataset for NonCats images"
      ]
    },
    {
      "cell_type": "code",
      "metadata": {
        "id": "EB7urwhVbItw",
        "colab": {
          "base_uri": "https://localhost:8080/"
        },
        "outputId": "db1aaa22-3459-4f97-830b-547a5c3333d5"
      },
      "source": [
        "path = '/content/Dataset'\n",
        "caltech_and_cats = datasets.ImageFolder(path)\n",
        "print(f\"Dataset Size: {len(caltech_and_cats)}\")\n",
        "print(f\"Dataset Classes: {caltech_and_cats.classes}\")\n",
        "print(f\"Number of Cats: {sum(np.array(caltech_and_cats.targets)==0)}\")\n",
        "print(f\"Number of NonCats: {sum(np.array(caltech_and_cats.targets)==1)}\")\n",
        "assert len(caltech_and_cats.classes) == 2, \"if not restart notebook\""
      ],
      "execution_count": null,
      "outputs": [
        {
          "output_type": "stream",
          "text": [
            "Dataset Size: 21643\n",
            "Dataset Classes: ['Cats', 'NonCats']\n",
            "Number of Cats: 12499\n",
            "Number of NonCats: 9144\n"
          ],
          "name": "stdout"
        }
      ]
    },
    {
      "cell_type": "markdown",
      "metadata": {
        "id": "6goFOivgSexH"
      },
      "source": [
        "### Standard Imagenet Transforms ( We are using model pretrained on imagenet)"
      ]
    },
    {
      "cell_type": "code",
      "metadata": {
        "id": "FvGeWYMeSeO7"
      },
      "source": [
        "image_net_transforms = transforms.Compose(\n",
        "        [\n",
        "            transforms.ToTensor(),\n",
        "            transforms.Resize(256),\n",
        "            transforms.CenterCrop(224),\n",
        "            transforms.Normalize((0.485, 0.456, 0.406), (0.229, 0.224, 0.225))\n",
        "        ]\n",
        "    )"
      ],
      "execution_count": null,
      "outputs": []
    },
    {
      "cell_type": "markdown",
      "metadata": {
        "id": "Hc5_dlSUSozk"
      },
      "source": [
        "### Dataset split 80-10-10"
      ]
    },
    {
      "cell_type": "code",
      "metadata": {
        "id": "DwBhdZ7iSs3I"
      },
      "source": [
        "all_indexes = np.random.permutation(len(caltech_and_cats))\n",
        "idxs = len(all_indexes)\n",
        "train_indexes = all_indexes[:int(idxs * 0.8)]\n",
        "val_indexes = all_indexes[int(idxs * 0.8):int(idxs*0.9)]\n",
        "test_indexes = all_indexes[int(idxs * 0.9):]"
      ],
      "execution_count": null,
      "outputs": []
    },
    {
      "cell_type": "markdown",
      "metadata": {
        "id": "zdqNDtX_T-Gk"
      },
      "source": [
        "# Train/Test Loaders"
      ]
    },
    {
      "cell_type": "code",
      "metadata": {
        "id": "TWSPjfxIsvA_"
      },
      "source": [
        "train_dataset = Subset(\n",
        "    caltech_and_cats,\n",
        "    train_indexes,\n",
        "    image_net_transforms\n",
        ")\n",
        "\n",
        "\n",
        "test_dataset = Subset(\n",
        "    caltech_and_cats,\n",
        "    val_indexes,\n",
        "    image_net_transforms\n",
        ")\n",
        "\n",
        "test_dataset = Subset(\n",
        "    caltech_and_cats,\n",
        "    test_indexes,\n",
        "    image_net_transforms\n",
        ")\n",
        "\n",
        "\n",
        "datasets_ = {\n",
        "    \"train\": train_dataset,\n",
        "    \"val\": train_dataset,\n",
        "    \"test\": train_dataset,\n",
        "}\n",
        "\n",
        "\n",
        "batch_size = 64\n",
        "\n",
        "train_data_loaders = {\n",
        "    \"train\": torch.utils.data.DataLoader(\n",
        "        datasets_[\"train\"], batch_size=batch_size, num_workers=2, shuffle=True),\n",
        "    \"val\": torch.utils.data.DataLoader(\n",
        "        datasets_[\"val\"], batch_size=batch_size, num_workers=2, shuffle=False)}\n",
        "\n",
        "test_data_loader = {\n",
        "    \"test\": torch.utils.data.DataLoader(\n",
        "        datasets_[\"test\"], batch_size=batch_size, num_workers=2, shuffle=False)}"
      ],
      "execution_count": null,
      "outputs": []
    },
    {
      "cell_type": "markdown",
      "metadata": {
        "id": "8hwZejsGcrHp"
      },
      "source": [
        "## Plain Pretrained Models"
      ]
    },
    {
      "cell_type": "markdown",
      "metadata": {
        "id": "wNM8s6P6q1Cx"
      },
      "source": [
        "### mnasnet1.0"
      ]
    },
    {
      "cell_type": "code",
      "metadata": {
        "id": "mecUZgLeq0Bq"
      },
      "source": [
        "mnasnet = models.mnasnet1_0(pretrained=True)"
      ],
      "execution_count": null,
      "outputs": []
    },
    {
      "cell_type": "code",
      "metadata": {
        "id": "SG7CHcmWq3ho"
      },
      "source": [
        "for p in mnasnet.parameters():\n",
        "    p.requires_grad = False\n",
        "\n",
        "model = nn.Sequential(mnasnet.layers,\n",
        "                      nn.AdaptiveAvgPool2d(output_size=1),\n",
        "                      nn.Flatten(),\n",
        "                      nn.Dropout(0.2),\n",
        "                      nn.Linear(1280,1))\n",
        "\n",
        "criterion = (torch.nn.BCEWithLogitsLoss())\n",
        "\n",
        "optimizer = torch.optim.Adam(model.parameters(), lr=0.0001)"
      ],
      "execution_count": null,
      "outputs": []
    },
    {
      "cell_type": "code",
      "metadata": {
        "colab": {
          "base_uri": "https://localhost:8080/"
        },
        "id": "3dLYbsPbs0sh",
        "outputId": "f9ecd6b7-4161-4dcb-da40-7f3c5bb078f1"
      },
      "source": [
        "summary(model.cpu(), input_size=(1,3,224,224))"
      ],
      "execution_count": null,
      "outputs": [
        {
          "output_type": "execute_result",
          "data": {
            "text/plain": [
              "===============================================================================================\n",
              "Layer (type:depth-idx)                        Output Shape              Param #\n",
              "===============================================================================================\n",
              "Sequential                                    --                        --\n",
              "├─Sequential: 1-1                             [1, 1280, 7, 7]           --\n",
              "│    └─Conv2d: 2-1                            [1, 32, 112, 112]         (864)\n",
              "│    └─BatchNorm2d: 2-2                       [1, 32, 112, 112]         (64)\n",
              "│    └─ReLU: 2-3                              [1, 32, 112, 112]         --\n",
              "│    └─Conv2d: 2-4                            [1, 32, 112, 112]         (288)\n",
              "│    └─BatchNorm2d: 2-5                       [1, 32, 112, 112]         (64)\n",
              "│    └─ReLU: 2-6                              [1, 32, 112, 112]         --\n",
              "│    └─Conv2d: 2-7                            [1, 16, 112, 112]         (512)\n",
              "│    └─BatchNorm2d: 2-8                       [1, 16, 112, 112]         (32)\n",
              "│    └─Sequential: 2-9                        [1, 24, 56, 56]           --\n",
              "│    │    └─_InvertedResidual: 3-1            [1, 24, 56, 56]           (2,592)\n",
              "│    │    └─_InvertedResidual: 3-2            [1, 24, 56, 56]           (4,440)\n",
              "│    │    └─_InvertedResidual: 3-3            [1, 24, 56, 56]           (4,440)\n",
              "│    └─Sequential: 2-10                       [1, 40, 28, 28]           --\n",
              "│    │    └─_InvertedResidual: 3-4            [1, 40, 28, 28]           (6,776)\n",
              "│    │    └─_InvertedResidual: 3-5            [1, 40, 28, 28]           (13,160)\n",
              "│    │    └─_InvertedResidual: 3-6            [1, 40, 28, 28]           (13,160)\n",
              "│    └─Sequential: 2-11                       [1, 80, 14, 14]           --\n",
              "│    │    └─_InvertedResidual: 3-7            [1, 80, 14, 14]           (35,920)\n",
              "│    │    └─_InvertedResidual: 3-8            [1, 80, 14, 14]           (90,880)\n",
              "│    │    └─_InvertedResidual: 3-9            [1, 80, 14, 14]           (90,880)\n",
              "│    └─Sequential: 2-12                       [1, 96, 14, 14]           --\n",
              "│    │    └─_InvertedResidual: 3-10           [1, 96, 14, 14]           (90,912)\n",
              "│    │    └─_InvertedResidual: 3-11           [1, 96, 14, 14]           (118,272)\n",
              "│    └─Sequential: 2-13                       [1, 192, 7, 7]            --\n",
              "│    │    └─_InvertedResidual: 3-12           [1, 192, 7, 7]            (182,976)\n",
              "│    │    └─_InvertedResidual: 3-13           [1, 192, 7, 7]            (476,160)\n",
              "│    │    └─_InvertedResidual: 3-14           [1, 192, 7, 7]            (476,160)\n",
              "│    │    └─_InvertedResidual: 3-15           [1, 192, 7, 7]            (476,160)\n",
              "│    └─Sequential: 2-14                       [1, 320, 7, 7]            --\n",
              "│    │    └─_InvertedResidual: 3-16           [1, 320, 7, 7]            (605,440)\n",
              "│    └─Conv2d: 2-15                           [1, 1280, 7, 7]           (409,600)\n",
              "│    └─BatchNorm2d: 2-16                      [1, 1280, 7, 7]           (2,560)\n",
              "│    └─ReLU: 2-17                             [1, 1280, 7, 7]           --\n",
              "├─AdaptiveAvgPool2d: 1-2                      [1, 1280, 1, 1]           --\n",
              "├─Flatten: 1-3                                [1, 1280]                 --\n",
              "├─Dropout: 1-4                                [1, 1280]                 --\n",
              "├─Linear: 1-5                                 [1, 1]                    1,281\n",
              "===============================================================================================\n",
              "Total params: 3,103,593\n",
              "Trainable params: 1,281\n",
              "Non-trainable params: 3,102,312\n",
              "Total mult-adds (M): 313.18\n",
              "===============================================================================================\n",
              "Input size (MB): 0.60\n",
              "Forward/backward pass size (MB): 87.31\n",
              "Params size (MB): 12.41\n",
              "Estimated Total Size (MB): 100.32\n",
              "==============================================================================================="
            ]
          },
          "metadata": {
            "tags": []
          },
          "execution_count": 56
        }
      ]
    },
    {
      "cell_type": "code",
      "metadata": {
        "colab": {
          "base_uri": "https://localhost:8080/",
          "height": 819
        },
        "id": "WEsFz9vEs-td",
        "outputId": "f8480a17-7aed-4c8b-bdbc-a2a099120d2b"
      },
      "source": [
        "train(\n",
        "    model, \n",
        "    train_data_loaders, \n",
        "    optimizer, \n",
        "    criterion, \n",
        "    num_epochs=5, \n",
        "    log_every=100, \n",
        "    cuda=True,\n",
        "    verbose=True)"
      ],
      "execution_count": null,
      "outputs": [
        {
          "output_type": "stream",
          "text": [
            "Training the model!\n",
            "You can interrupt it at any time.\n",
            "Minibatch    100  | loss  0.48 | err rate 10.94%\n",
            "Minibatch    200  | loss  0.33 | err rate  1.56%\n",
            "----------------------------------------------------------\n",
            "After epoch  1 | valid err rate:  8.07% | doing   5 epochs\n",
            "----------------------------------------------------------\n",
            "Minibatch    300  | loss  0.28 | err rate  6.25%\n",
            "Minibatch    400  | loss  0.25 | err rate  1.56%\n",
            "Minibatch    500  | loss  0.21 | err rate  3.12%\n",
            "----------------------------------------------------------\n",
            "After epoch  2 | valid err rate:  5.31% | doing   5 epochs\n",
            "----------------------------------------------------------\n",
            "Minibatch    600  | loss  0.21 | err rate  3.12%\n",
            "Minibatch    700  | loss  0.16 | err rate  3.12%\n",
            "Minibatch    800  | loss  0.12 | err rate  3.12%\n",
            "----------------------------------------------------------\n",
            "After epoch  3 | valid err rate:  4.29% | doing   5 epochs\n",
            "----------------------------------------------------------\n",
            "Minibatch    900  | loss  0.13 | err rate  3.12%\n",
            "Minibatch   1000  | loss  0.12 | err rate  1.56%\n",
            "----------------------------------------------------------\n",
            "After epoch  4 | valid err rate:  3.56% | doing   5 epochs\n",
            "----------------------------------------------------------\n",
            "Minibatch   1100  | loss  0.12 | err rate  1.56%\n",
            "Minibatch   1200  | loss  0.10 | err rate  1.56%\n",
            "Minibatch   1300  | loss  0.12 | err rate  1.56%\n",
            "----------------------------------------------------------\n",
            "After epoch  5 | valid err rate:  3.25% | doing   5 epochs\n",
            "----------------------------------------------------------\n",
            "\n",
            "Loading best params on validation set (epoch 5)\n",
            "\n"
          ],
          "name": "stdout"
        },
        {
          "output_type": "display_data",
          "data": {
            "image/png": "[encoded data removed]",
            "text/plain": [
              "<Figure size 1152x288 with 2 Axes>"
            ]
          },
          "metadata": {
            "tags": [],
            "needs_background": "light"
          }
        }
      ]
    },
    {
      "cell_type": "code",
      "metadata": {
        "id": "cI2qln3RtEKN"
      },
      "source": [
        "save_model('mnasnet1.0', model)"
      ],
      "execution_count": null,
      "outputs": []
    },
    {
      "cell_type": "markdown",
      "metadata": {
        "id": "lOYKicqLp-ZV"
      },
      "source": [
        "### MobileNetV2"
      ]
    },
    {
      "cell_type": "code",
      "metadata": {
        "id": "qzhRPj1HqWoO"
      },
      "source": [
        "mobilenet_v2 = models.mobilenet_v2(pretrained=True)"
      ],
      "execution_count": null,
      "outputs": []
    },
    {
      "cell_type": "code",
      "metadata": {
        "id": "cqeMWx5MqcwA"
      },
      "source": [
        "for p in mobilenet_v2.parameters():\n",
        "    p.requires_grad = False\n",
        "\n",
        "model = nn.Sequential(mobilenet_v2.features, \n",
        "                            nn.AdaptiveAvgPool2d(output_size=1),\n",
        "                            nn.Flatten(),\n",
        "                            nn.Linear(1280,1))\n",
        "\n",
        "criterion = (torch.nn.BCEWithLogitsLoss())\n",
        "\n",
        "optimizer = torch.optim.Adam(model.parameters(), lr=0.0001)"
      ],
      "execution_count": null,
      "outputs": []
    },
    {
      "cell_type": "code",
      "metadata": {
        "colab": {
          "base_uri": "https://localhost:8080/"
        },
        "id": "KKrkbXXVqjcg",
        "outputId": "fe9c8644-d918-4a58-b4b2-36dfa45b9436"
      },
      "source": [
        "summary(model.cpu(), input_size=(1,3,224,224))"
      ],
      "execution_count": null,
      "outputs": [
        {
          "output_type": "execute_result",
          "data": {
            "text/plain": [
              "===============================================================================================\n",
              "Layer (type:depth-idx)                        Output Shape              Param #\n",
              "===============================================================================================\n",
              "Sequential                                    --                        --\n",
              "├─Sequential: 1-1                             [1, 1280, 7, 7]           --\n",
              "│    └─ConvBNActivation: 2-1                  [1, 32, 112, 112]         --\n",
              "│    │    └─Conv2d: 3-1                       [1, 32, 112, 112]         (864)\n",
              "│    │    └─BatchNorm2d: 3-2                  [1, 32, 112, 112]         (64)\n",
              "│    │    └─ReLU6: 3-3                        [1, 32, 112, 112]         --\n",
              "│    └─InvertedResidual: 2-2                  [1, 16, 112, 112]         --\n",
              "│    │    └─Sequential: 3-4                   [1, 16, 112, 112]         (896)\n",
              "│    └─InvertedResidual: 2-3                  [1, 24, 56, 56]           --\n",
              "│    │    └─Sequential: 3-5                   [1, 24, 56, 56]           (5,136)\n",
              "│    └─InvertedResidual: 2-4                  [1, 24, 56, 56]           --\n",
              "│    │    └─Sequential: 3-6                   [1, 24, 56, 56]           (8,832)\n",
              "│    └─InvertedResidual: 2-5                  [1, 32, 28, 28]           --\n",
              "│    │    └─Sequential: 3-7                   [1, 32, 28, 28]           (10,000)\n",
              "│    └─InvertedResidual: 2-6                  [1, 32, 28, 28]           --\n",
              "│    │    └─Sequential: 3-8                   [1, 32, 28, 28]           (14,848)\n",
              "│    └─InvertedResidual: 2-7                  [1, 32, 28, 28]           --\n",
              "│    │    └─Sequential: 3-9                   [1, 32, 28, 28]           (14,848)\n",
              "│    └─InvertedResidual: 2-8                  [1, 64, 14, 14]           --\n",
              "│    │    └─Sequential: 3-10                  [1, 64, 14, 14]           (21,056)\n",
              "│    └─InvertedResidual: 2-9                  [1, 64, 14, 14]           --\n",
              "│    │    └─Sequential: 3-11                  [1, 64, 14, 14]           (54,272)\n",
              "│    └─InvertedResidual: 2-10                 [1, 64, 14, 14]           --\n",
              "│    │    └─Sequential: 3-12                  [1, 64, 14, 14]           (54,272)\n",
              "│    └─InvertedResidual: 2-11                 [1, 64, 14, 14]           --\n",
              "│    │    └─Sequential: 3-13                  [1, 64, 14, 14]           (54,272)\n",
              "│    └─InvertedResidual: 2-12                 [1, 96, 14, 14]           --\n",
              "│    │    └─Sequential: 3-14                  [1, 96, 14, 14]           (66,624)\n",
              "│    └─InvertedResidual: 2-13                 [1, 96, 14, 14]           --\n",
              "│    │    └─Sequential: 3-15                  [1, 96, 14, 14]           (118,272)\n",
              "│    └─InvertedResidual: 2-14                 [1, 96, 14, 14]           --\n",
              "│    │    └─Sequential: 3-16                  [1, 96, 14, 14]           (118,272)\n",
              "│    └─InvertedResidual: 2-15                 [1, 160, 7, 7]            --\n",
              "│    │    └─Sequential: 3-17                  [1, 160, 7, 7]            (155,264)\n",
              "│    └─InvertedResidual: 2-16                 [1, 160, 7, 7]            --\n",
              "│    │    └─Sequential: 3-18                  [1, 160, 7, 7]            (320,000)\n",
              "│    └─InvertedResidual: 2-17                 [1, 160, 7, 7]            --\n",
              "│    │    └─Sequential: 3-19                  [1, 160, 7, 7]            (320,000)\n",
              "│    └─InvertedResidual: 2-18                 [1, 320, 7, 7]            --\n",
              "│    │    └─Sequential: 3-20                  [1, 320, 7, 7]            (473,920)\n",
              "│    └─ConvBNActivation: 2-19                 [1, 1280, 7, 7]           --\n",
              "│    │    └─Conv2d: 3-21                      [1, 1280, 7, 7]           (409,600)\n",
              "│    │    └─BatchNorm2d: 3-22                 [1, 1280, 7, 7]           (2,560)\n",
              "│    │    └─ReLU6: 3-23                       [1, 1280, 7, 7]           --\n",
              "├─AdaptiveAvgPool2d: 1-2                      [1, 1280, 1, 1]           --\n",
              "├─Flatten: 1-3                                [1, 1280]                 --\n",
              "├─Linear: 1-4                                 [1, 1]                    1,281\n",
              "===============================================================================================\n",
              "Total params: 2,225,153\n",
              "Trainable params: 1,281\n",
              "Non-trainable params: 2,223,872\n",
              "Total mult-adds (M): 299.53\n",
              "===============================================================================================\n",
              "Input size (MB): 0.60\n",
              "Forward/backward pass size (MB): 106.85\n",
              "Params size (MB): 8.90\n",
              "Estimated Total Size (MB): 116.35\n",
              "==============================================================================================="
            ]
          },
          "metadata": {
            "tags": []
          },
          "execution_count": 61
        }
      ]
    },
    {
      "cell_type": "code",
      "metadata": {
        "colab": {
          "base_uri": "https://localhost:8080/",
          "height": 819
        },
        "id": "RvQb8RFOs919",
        "outputId": "a5764354-8f41-4975-b3c8-e98c4ad926c0"
      },
      "source": [
        "train(\n",
        "    model, \n",
        "    train_data_loaders, \n",
        "    optimizer, \n",
        "    criterion, \n",
        "    num_epochs=5, \n",
        "    log_every=100, \n",
        "    cuda=True,\n",
        "    verbose=True)"
      ],
      "execution_count": null,
      "outputs": [
        {
          "output_type": "stream",
          "text": [
            "Training the model!\n",
            "You can interrupt it at any time.\n",
            "Minibatch    100  | loss  0.35 | err rate  1.56%\n",
            "Minibatch    200  | loss  0.22 | err rate  0.00%\n",
            "----------------------------------------------------------\n",
            "After epoch  1 | valid err rate:  1.64% | doing   5 epochs\n",
            "----------------------------------------------------------\n",
            "Minibatch    300  | loss  0.18 | err rate  0.00%\n",
            "Minibatch    400  | loss  0.15 | err rate  3.12%\n",
            "Minibatch    500  | loss  0.14 | err rate  0.00%\n",
            "----------------------------------------------------------\n",
            "After epoch  2 | valid err rate:  1.37% | doing   5 epochs\n",
            "----------------------------------------------------------\n",
            "Minibatch    600  | loss  0.10 | err rate  0.00%\n",
            "Minibatch    700  | loss  0.14 | err rate  3.12%\n",
            "Minibatch    800  | loss  0.07 | err rate  0.00%\n",
            "----------------------------------------------------------\n",
            "After epoch  3 | valid err rate:  1.26% | doing   5 epochs\n",
            "----------------------------------------------------------\n",
            "Minibatch    900  | loss  0.06 | err rate  0.00%\n",
            "Minibatch   1000  | loss  0.07 | err rate  1.56%\n",
            "----------------------------------------------------------\n",
            "After epoch  4 | valid err rate:  1.18% | doing   5 epochs\n",
            "----------------------------------------------------------\n",
            "Minibatch   1100  | loss  0.04 | err rate  0.00%\n",
            "Minibatch   1200  | loss  0.09 | err rate  1.56%\n",
            "Minibatch   1300  | loss  0.10 | err rate  3.12%\n",
            "----------------------------------------------------------\n",
            "After epoch  5 | valid err rate:  1.09% | doing   5 epochs\n",
            "----------------------------------------------------------\n",
            "\n",
            "Loading best params on validation set (epoch 5)\n",
            "\n"
          ],
          "name": "stdout"
        },
        {
          "output_type": "display_data",
          "data": {
            "image/png": "[encoded data removed]",
            "text/plain": [
              "<Figure size 1152x288 with 2 Axes>"
            ]
          },
          "metadata": {
            "tags": [],
            "needs_background": "light"
          }
        }
      ]
    },
    {
      "cell_type": "code",
      "metadata": {
        "id": "0QPv-OmItA2r"
      },
      "source": [
        "save_model('MobileNetV2', model)"
      ],
      "execution_count": null,
      "outputs": []
    },
    {
      "cell_type": "markdown",
      "metadata": {
        "id": "PjDtGHtrpXXo"
      },
      "source": [
        "### MobileNetV3 - Large"
      ]
    },
    {
      "cell_type": "code",
      "metadata": {
        "id": "th809OlbpV67"
      },
      "source": [
        "mobilenet_v3_large = models.mobilenet_v3_large(pretrained=True)"
      ],
      "execution_count": null,
      "outputs": []
    },
    {
      "cell_type": "code",
      "metadata": {
        "id": "jOAhDrfwpbkb"
      },
      "source": [
        "for p in mobilenet_v3_large.parameters():\n",
        "    p.requires_grad = False\n",
        "\n",
        "model = nn.Sequential(mobilenet_v3_large.features, \n",
        "                            nn.AdaptiveAvgPool2d(output_size=1),\n",
        "                            nn.Flatten(),\n",
        "                            nn.Linear(960,1))\n",
        "\n",
        "criterion = (torch.nn.BCEWithLogitsLoss())\n",
        "\n",
        "optimizer = torch.optim.Adam(model.parameters(), lr=0.0001)"
      ],
      "execution_count": null,
      "outputs": []
    },
    {
      "cell_type": "code",
      "metadata": {
        "colab": {
          "base_uri": "https://localhost:8080/"
        },
        "id": "z5ZwVcS3p2nW",
        "outputId": "20cdea91-97ae-4d47-e475-d0b87e5b822c"
      },
      "source": [
        "summary(model.cpu(), input_size=(1,3,224,224))"
      ],
      "execution_count": null,
      "outputs": [
        {
          "output_type": "execute_result",
          "data": {
            "text/plain": [
              "===============================================================================================\n",
              "Layer (type:depth-idx)                        Output Shape              Param #\n",
              "===============================================================================================\n",
              "Sequential                                    --                        --\n",
              "├─Sequential: 1-1                             [1, 960, 7, 7]            --\n",
              "│    └─ConvBNActivation: 2-1                  [1, 16, 112, 112]         --\n",
              "│    │    └─Conv2d: 3-1                       [1, 16, 112, 112]         (432)\n",
              "│    │    └─BatchNorm2d: 3-2                  [1, 16, 112, 112]         (32)\n",
              "│    │    └─Hardswish: 3-3                    [1, 16, 112, 112]         --\n",
              "│    └─InvertedResidual: 2-2                  [1, 16, 112, 112]         --\n",
              "│    │    └─Sequential: 3-4                   [1, 16, 112, 112]         (464)\n",
              "│    └─InvertedResidual: 2-3                  [1, 24, 56, 56]           --\n",
              "│    │    └─Sequential: 3-5                   [1, 24, 56, 56]           (3,440)\n",
              "│    └─InvertedResidual: 2-4                  [1, 24, 56, 56]           --\n",
              "│    │    └─Sequential: 3-6                   [1, 24, 56, 56]           (4,440)\n",
              "│    └─InvertedResidual: 2-5                  [1, 40, 28, 28]           --\n",
              "│    │    └─Sequential: 3-7                   [1, 40, 28, 28]           (10,328)\n",
              "│    └─InvertedResidual: 2-6                  [1, 40, 28, 28]           --\n",
              "│    │    └─Sequential: 3-8                   [1, 40, 28, 28]           (20,992)\n",
              "│    └─InvertedResidual: 2-7                  [1, 40, 28, 28]           --\n",
              "│    │    └─Sequential: 3-9                   [1, 40, 28, 28]           (20,992)\n",
              "│    └─InvertedResidual: 2-8                  [1, 80, 14, 14]           --\n",
              "│    │    └─Sequential: 3-10                  [1, 80, 14, 14]           (32,080)\n",
              "│    └─InvertedResidual: 2-9                  [1, 80, 14, 14]           --\n",
              "│    │    └─Sequential: 3-11                  [1, 80, 14, 14]           (34,760)\n",
              "│    └─InvertedResidual: 2-10                 [1, 80, 14, 14]           --\n",
              "│    │    └─Sequential: 3-12                  [1, 80, 14, 14]           (31,992)\n",
              "│    └─InvertedResidual: 2-11                 [1, 80, 14, 14]           --\n",
              "│    │    └─Sequential: 3-13                  [1, 80, 14, 14]           (31,992)\n",
              "│    └─InvertedResidual: 2-12                 [1, 112, 14, 14]          --\n",
              "│    │    └─Sequential: 3-14                  [1, 112, 14, 14]          (214,424)\n",
              "│    └─InvertedResidual: 2-13                 [1, 112, 14, 14]          --\n",
              "│    │    └─Sequential: 3-15                  [1, 112, 14, 14]          (386,120)\n",
              "│    └─InvertedResidual: 2-14                 [1, 160, 7, 7]            --\n",
              "│    │    └─Sequential: 3-16                  [1, 160, 7, 7]            (429,224)\n",
              "│    └─InvertedResidual: 2-15                 [1, 160, 7, 7]            --\n",
              "│    │    └─Sequential: 3-17                  [1, 160, 7, 7]            (797,360)\n",
              "│    └─InvertedResidual: 2-16                 [1, 160, 7, 7]            --\n",
              "│    │    └─Sequential: 3-18                  [1, 160, 7, 7]            (797,360)\n",
              "│    └─ConvBNActivation: 2-17                 [1, 960, 7, 7]            --\n",
              "│    │    └─Conv2d: 3-19                      [1, 960, 7, 7]            (153,600)\n",
              "│    │    └─BatchNorm2d: 3-20                 [1, 960, 7, 7]            (1,920)\n",
              "│    │    └─Hardswish: 3-21                   [1, 960, 7, 7]            --\n",
              "├─AdaptiveAvgPool2d: 1-2                      [1, 960, 1, 1]            --\n",
              "├─Flatten: 1-3                                [1, 960]                  --\n",
              "├─Linear: 1-4                                 [1, 1]                    961\n",
              "===============================================================================================\n",
              "Total params: 2,972,913\n",
              "Trainable params: 961\n",
              "Non-trainable params: 2,971,952\n",
              "Total mult-adds (M): 214.11\n",
              "===============================================================================================\n",
              "Input size (MB): 0.60\n",
              "Forward/backward pass size (MB): 70.44\n",
              "Params size (MB): 11.89\n",
              "Estimated Total Size (MB): 82.93\n",
              "==============================================================================================="
            ]
          },
          "metadata": {
            "tags": []
          },
          "execution_count": 66
        }
      ]
    },
    {
      "cell_type": "code",
      "metadata": {
        "colab": {
          "base_uri": "https://localhost:8080/",
          "height": 819
        },
        "id": "5z2HbqRvp4hQ",
        "outputId": "5f25bb1f-3c7d-454f-d7ad-f8f398c44e1f"
      },
      "source": [
        "train(\n",
        "    model, \n",
        "    train_data_loaders, \n",
        "    optimizer, \n",
        "    criterion, \n",
        "    num_epochs=5, \n",
        "    log_every=100, \n",
        "    cuda=True,\n",
        "    verbose=True)"
      ],
      "execution_count": null,
      "outputs": [
        {
          "output_type": "stream",
          "text": [
            "Training the model!\n",
            "You can interrupt it at any time.\n",
            "Minibatch    100  | loss  0.52 | err rate 21.88%\n",
            "Minibatch    200  | loss  0.39 | err rate  7.81%\n",
            "----------------------------------------------------------\n",
            "After epoch  1 | valid err rate:  4.60% | doing   5 epochs\n",
            "----------------------------------------------------------\n",
            "Minibatch    300  | loss  0.28 | err rate  4.69%\n",
            "Minibatch    400  | loss  0.26 | err rate  6.25%\n",
            "Minibatch    500  | loss  0.22 | err rate  4.69%\n",
            "----------------------------------------------------------\n",
            "After epoch  2 | valid err rate:  2.37% | doing   5 epochs\n",
            "----------------------------------------------------------\n",
            "Minibatch    600  | loss  0.16 | err rate  4.69%\n",
            "Minibatch    700  | loss  0.19 | err rate  1.56%\n",
            "Minibatch    800  | loss  0.09 | err rate  0.00%\n",
            "----------------------------------------------------------\n",
            "After epoch  3 | valid err rate:  2.03% | doing   5 epochs\n",
            "----------------------------------------------------------\n",
            "Minibatch    900  | loss  0.14 | err rate  1.56%\n",
            "Minibatch   1000  | loss  0.12 | err rate  1.56%\n",
            "----------------------------------------------------------\n",
            "After epoch  4 | valid err rate:  1.84% | doing   5 epochs\n",
            "----------------------------------------------------------\n",
            "Minibatch   1100  | loss  0.08 | err rate  1.56%\n",
            "Minibatch   1200  | loss  0.12 | err rate  1.56%\n",
            "Minibatch   1300  | loss  0.07 | err rate  1.56%\n",
            "----------------------------------------------------------\n",
            "After epoch  5 | valid err rate:  1.73% | doing   5 epochs\n",
            "----------------------------------------------------------\n",
            "\n",
            "Loading best params on validation set (epoch 5)\n",
            "\n"
          ],
          "name": "stdout"
        },
        {
          "output_type": "display_data",
          "data": {
            "image/png": "[encoded data removed]",
            "text/plain": [
              "<Figure size 1152x288 with 2 Axes>"
            ]
          },
          "metadata": {
            "tags": [],
            "needs_background": "light"
          }
        }
      ]
    },
    {
      "cell_type": "code",
      "metadata": {
        "id": "NiUE6wTWp6wR"
      },
      "source": [
        "save_model('MobileNetV3_large', model)"
      ],
      "execution_count": null,
      "outputs": []
    },
    {
      "cell_type": "markdown",
      "metadata": {
        "id": "vCzSb5vAqItl"
      },
      "source": [
        "### MobileNetV3 - Small"
      ]
    },
    {
      "cell_type": "code",
      "metadata": {
        "id": "Kuo9ChXRqIMB",
        "colab": {
          "base_uri": "https://localhost:8080/",
          "height": 82,
          "referenced_widgets": [
            "99e4f9ef679244368181cabd45594e95",
            "3e49d79f357e40eca57f13dd47bac5c2",
            "0eff7323cd5d46399debf769ca70120a",
            "26858b512e9a401785e5c7db83e8bbca",
            "0c2049c0270c4564a3e5d73fdb77c5c9",
            "07498dd2c682403c8b25a163ac416b78",
            "9f826b4455a6481191a2336624ee18e4",
            "d3fd46854c65458fb84470b6cd475edb"
          ]
        },
        "outputId": "9586cb06-e997-44d7-f420-0f3e7614f460"
      },
      "source": [
        "mobilenet_v3_small = models.mobilenet_v3_small(pretrained=True)"
      ],
      "execution_count": null,
      "outputs": [
        {
          "output_type": "stream",
          "text": [
            "Downloading: \"https://download.pytorch.org/models/mobilenet_v3_small-047dcff4.pth\" to /root/.cache/torch/hub/checkpoints/mobilenet_v3_small-047dcff4.pth\n"
          ],
          "name": "stderr"
        },
        {
          "output_type": "display_data",
          "data": {
            "application/vnd.jupyter.widget-view+json": {
              "model_id": "99e4f9ef679244368181cabd45594e95",
              "version_minor": 0,
              "version_major": 2
            },
            "text/plain": [
              "HBox(children=(FloatProgress(value=0.0, max=10306551.0), HTML(value='')))"
            ]
          },
          "metadata": {
            "tags": []
          }
        },
        {
          "output_type": "stream",
          "text": [
            "\n"
          ],
          "name": "stdout"
        }
      ]
    },
    {
      "cell_type": "code",
      "metadata": {
        "id": "2cPIdMwvq9UR"
      },
      "source": [
        "for p in mobilenet_v3_small.parameters():\n",
        "    p.requires_grad = False\n",
        "\n",
        "model = nn.Sequential(mobilenet_v3_small.features, \n",
        "                            nn.AdaptiveAvgPool2d(output_size=1),\n",
        "                            nn.Flatten(),\n",
        "                            nn.Linear(576,1))\n",
        "\n",
        "criterion = (torch.nn.BCEWithLogitsLoss())\n",
        "\n",
        "optimizer = torch.optim.Adam(model.parameters(), lr=0.0001)"
      ],
      "execution_count": null,
      "outputs": []
    },
    {
      "cell_type": "code",
      "metadata": {
        "colab": {
          "base_uri": "https://localhost:8080/"
        },
        "id": "NSas3XDbghNs",
        "outputId": "48156f80-98e4-4e44-f37d-88deafce3b82"
      },
      "source": [
        "summary(model.cpu(), input_size=(1,3,224,224))"
      ],
      "execution_count": null,
      "outputs": [
        {
          "output_type": "execute_result",
          "data": {
            "text/plain": [
              "===============================================================================================\n",
              "Layer (type:depth-idx)                        Output Shape              Param #\n",
              "===============================================================================================\n",
              "Sequential                                    --                        --\n",
              "├─Sequential: 1-1                             [1, 576, 7, 7]            --\n",
              "│    └─ConvBNActivation: 2-1                  [1, 16, 112, 112]         --\n",
              "│    │    └─Conv2d: 3-1                       [1, 16, 112, 112]         (432)\n",
              "│    │    └─BatchNorm2d: 3-2                  [1, 16, 112, 112]         (32)\n",
              "│    │    └─Hardswish: 3-3                    [1, 16, 112, 112]         --\n",
              "│    └─InvertedResidual: 2-2                  [1, 16, 56, 56]           --\n",
              "│    │    └─Sequential: 3-4                   [1, 16, 56, 56]           (744)\n",
              "│    └─InvertedResidual: 2-3                  [1, 24, 28, 28]           --\n",
              "│    │    └─Sequential: 3-5                   [1, 24, 28, 28]           (3,864)\n",
              "│    └─InvertedResidual: 2-4                  [1, 24, 28, 28]           --\n",
              "│    │    └─Sequential: 3-6                   [1, 24, 28, 28]           (5,416)\n",
              "│    └─InvertedResidual: 2-5                  [1, 40, 14, 14]           --\n",
              "│    │    └─Sequential: 3-7                   [1, 40, 14, 14]           (13,736)\n",
              "│    └─InvertedResidual: 2-6                  [1, 40, 14, 14]           --\n",
              "│    │    └─Sequential: 3-8                   [1, 40, 14, 14]           (57,264)\n",
              "│    └─InvertedResidual: 2-7                  [1, 40, 14, 14]           --\n",
              "│    │    └─Sequential: 3-9                   [1, 40, 14, 14]           (57,264)\n",
              "│    └─InvertedResidual: 2-8                  [1, 48, 14, 14]           --\n",
              "│    │    └─Sequential: 3-10                  [1, 48, 14, 14]           (21,968)\n",
              "│    └─InvertedResidual: 2-9                  [1, 48, 14, 14]           --\n",
              "│    │    └─Sequential: 3-11                  [1, 48, 14, 14]           (29,800)\n",
              "│    └─InvertedResidual: 2-10                 [1, 96, 7, 7]             --\n",
              "│    │    └─Sequential: 3-12                  [1, 96, 7, 7]             (91,848)\n",
              "│    └─InvertedResidual: 2-11                 [1, 96, 7, 7]             --\n",
              "│    │    └─Sequential: 3-13                  [1, 96, 7, 7]             (294,096)\n",
              "│    └─InvertedResidual: 2-12                 [1, 96, 7, 7]             --\n",
              "│    │    └─Sequential: 3-14                  [1, 96, 7, 7]             (294,096)\n",
              "│    └─ConvBNActivation: 2-13                 [1, 576, 7, 7]            --\n",
              "│    │    └─Conv2d: 3-15                      [1, 576, 7, 7]            (55,296)\n",
              "│    │    └─BatchNorm2d: 3-16                 [1, 576, 7, 7]            (1,152)\n",
              "│    │    └─Hardswish: 3-17                   [1, 576, 7, 7]            --\n",
              "├─AdaptiveAvgPool2d: 1-2                      [1, 576, 1, 1]            --\n",
              "├─Flatten: 1-3                                [1, 576]                  --\n",
              "├─Linear: 1-4                                 [1, 1]                    577\n",
              "===============================================================================================\n",
              "Total params: 927,585\n",
              "Trainable params: 577\n",
              "Non-trainable params: 927,008\n",
              "Total mult-adds (M): 54.91\n",
              "===============================================================================================\n",
              "Input size (MB): 0.60\n",
              "Forward/backward pass size (MB): 22.63\n",
              "Params size (MB): 3.71\n",
              "Estimated Total Size (MB): 26.94\n",
              "==============================================================================================="
            ]
          },
          "metadata": {
            "tags": []
          },
          "execution_count": 71
        }
      ]
    },
    {
      "cell_type": "code",
      "metadata": {
        "colab": {
          "base_uri": "https://localhost:8080/",
          "height": 819
        },
        "id": "JAA0g5tZsAgj",
        "outputId": "10f6cbfd-8591-473c-88f6-14ab0ea31508"
      },
      "source": [
        "train(\n",
        "    model, \n",
        "    train_data_loaders, \n",
        "    optimizer, \n",
        "    criterion, \n",
        "    num_epochs=5, \n",
        "    log_every=100, \n",
        "    cuda=True,\n",
        "    verbose=True)"
      ],
      "execution_count": null,
      "outputs": [
        {
          "output_type": "stream",
          "text": [
            "Training the model!\n",
            "You can interrupt it at any time.\n",
            "Minibatch    100  | loss  0.56 | err rate 31.25%\n",
            "Minibatch    200  | loss  0.41 | err rate  9.38%\n",
            "----------------------------------------------------------\n",
            "After epoch  1 | valid err rate:  8.04% | doing   5 epochs\n",
            "----------------------------------------------------------\n",
            "Minibatch    300  | loss  0.34 | err rate  3.12%\n",
            "Minibatch    400  | loss  0.33 | err rate  9.38%\n",
            "Minibatch    500  | loss  0.27 | err rate  3.12%\n",
            "----------------------------------------------------------\n",
            "After epoch  2 | valid err rate:  3.56% | doing   5 epochs\n",
            "----------------------------------------------------------\n",
            "Minibatch    600  | loss  0.27 | err rate  9.38%\n",
            "Minibatch    700  | loss  0.21 | err rate  0.00%\n",
            "Minibatch    800  | loss  0.23 | err rate  4.69%\n",
            "----------------------------------------------------------\n",
            "After epoch  3 | valid err rate:  2.75% | doing   5 epochs\n",
            "----------------------------------------------------------\n",
            "Minibatch    900  | loss  0.17 | err rate  0.00%\n",
            "Minibatch   1000  | loss  0.15 | err rate  3.12%\n",
            "----------------------------------------------------------\n",
            "After epoch  4 | valid err rate:  2.65% | doing   5 epochs\n",
            "----------------------------------------------------------\n",
            "Minibatch   1100  | loss  0.16 | err rate  3.12%\n",
            "Minibatch   1200  | loss  0.14 | err rate  1.56%\n",
            "Minibatch   1300  | loss  0.16 | err rate  1.56%\n",
            "----------------------------------------------------------\n",
            "After epoch  5 | valid err rate:  2.48% | doing   5 epochs\n",
            "----------------------------------------------------------\n",
            "\n",
            "Loading best params on validation set (epoch 5)\n",
            "\n"
          ],
          "name": "stdout"
        },
        {
          "output_type": "display_data",
          "data": {
            "image/png": "[encoded data removed]",
            "text/plain": [
              "<Figure size 1152x288 with 2 Axes>"
            ]
          },
          "metadata": {
            "tags": [],
            "needs_background": "light"
          }
        }
      ]
    },
    {
      "cell_type": "code",
      "metadata": {
        "id": "izVA4zJZhJmk"
      },
      "source": [
        "save_model('MobileNetV3_small', model)"
      ],
      "execution_count": null,
      "outputs": []
    }
  ]
}
