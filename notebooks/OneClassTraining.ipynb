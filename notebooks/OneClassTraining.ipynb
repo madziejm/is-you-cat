{
  "nbformat": 4,
  "nbformat_minor": 0,
  "metadata": {
    "accelerator": "GPU",
    "colab": {
      "name": "Pretrained-Networks.pynb",
      "provenance": [],
      "collapsed_sections": [],
      "toc_visible": true
    },
    "kernelspec": {
      "display_name": "Python 3",
      "name": "python3"
    },
    "language_info": {
      "name": "python"
    },
    "widgets": {
      "application/vnd.jupyter.widget-state+json": {
        "705a02066eec414284a937b6ab5744fc": {
          "model_module": "@jupyter-widgets/controls",
          "model_name": "HBoxModel",
          "state": {
            "_dom_classes": [],
            "_model_module": "@jupyter-widgets/controls",
            "_model_module_version": "1.5.0",
            "_model_name": "HBoxModel",
            "_view_count": null,
            "_view_module": "@jupyter-widgets/controls",
            "_view_module_version": "1.5.0",
            "_view_name": "HBoxView",
            "box_style": "",
            "children": [
              "IPY_MODEL_bd0781838e164727b89f08c48ddf9dc2",
              "IPY_MODEL_9eb8eeb0fd9844feb4568bcd883687ee"
            ],
            "layout": "IPY_MODEL_4fb91f42dc2f4d4db036377ff945cbd6"
          }
        },
        "bd0781838e164727b89f08c48ddf9dc2": {
          "model_module": "@jupyter-widgets/controls",
          "model_name": "FloatProgressModel",
          "state": {
            "_dom_classes": [],
            "_model_module": "@jupyter-widgets/controls",
            "_model_module_version": "1.5.0",
            "_model_name": "FloatProgressModel",
            "_view_count": null,
            "_view_module": "@jupyter-widgets/controls",
            "_view_module_version": "1.5.0",
            "_view_name": "ProgressView",
            "bar_style": "success",
            "description": "100%",
            "description_tooltip": null,
            "layout": "IPY_MODEL_4824c22a34ca4fd1882305c7d6484a18",
            "max": 553433881,
            "min": 0,
            "orientation": "horizontal",
            "style": "IPY_MODEL_f9eddeaba95442a3ae203ebf4ea41f70",
            "value": 553433881
          }
        },
        "9eb8eeb0fd9844feb4568bcd883687ee": {
          "model_module": "@jupyter-widgets/controls",
          "model_name": "HTMLModel",
          "state": {
            "_dom_classes": [],
            "_model_module": "@jupyter-widgets/controls",
            "_model_module_version": "1.5.0",
            "_model_name": "HTMLModel",
            "_view_count": null,
            "_view_module": "@jupyter-widgets/controls",
            "_view_module_version": "1.5.0",
            "_view_name": "HTMLView",
            "description": "",
            "description_tooltip": null,
            "layout": "IPY_MODEL_e96b4554b363463d9e612006f91edf36",
            "placeholder": "​",
            "style": "IPY_MODEL_5a1753330cc74d0f9b4206bc03031d17",
            "value": " 528M/528M [00:57&lt;00:00, 9.60MB/s]"
          }
        },
        "4fb91f42dc2f4d4db036377ff945cbd6": {
          "model_module": "@jupyter-widgets/base",
          "model_name": "LayoutModel",
          "state": {
            "_model_module": "@jupyter-widgets/base",
            "_model_module_version": "1.2.0",
            "_model_name": "LayoutModel",
            "_view_count": null,
            "_view_module": "@jupyter-widgets/base",
            "_view_module_version": "1.2.0",
            "_view_name": "LayoutView",
            "align_content": null,
            "align_items": null,
            "align_self": null,
            "border": null,
            "bottom": null,
            "display": null,
            "flex": null,
            "flex_flow": null,
            "grid_area": null,
            "grid_auto_columns": null,
            "grid_auto_flow": null,
            "grid_auto_rows": null,
            "grid_column": null,
            "grid_gap": null,
            "grid_row": null,
            "grid_template_areas": null,
            "grid_template_columns": null,
            "grid_template_rows": null,
            "height": null,
            "justify_content": null,
            "justify_items": null,
            "left": null,
            "margin": null,
            "max_height": null,
            "max_width": null,
            "min_height": null,
            "min_width": null,
            "object_fit": null,
            "object_position": null,
            "order": null,
            "overflow": null,
            "overflow_x": null,
            "overflow_y": null,
            "padding": null,
            "right": null,
            "top": null,
            "visibility": null,
            "width": null
          }
        },
        "4824c22a34ca4fd1882305c7d6484a18": {
          "model_module": "@jupyter-widgets/base",
          "model_name": "LayoutModel",
          "state": {
            "_model_module": "@jupyter-widgets/base",
            "_model_module_version": "1.2.0",
            "_model_name": "LayoutModel",
            "_view_count": null,
            "_view_module": "@jupyter-widgets/base",
            "_view_module_version": "1.2.0",
            "_view_name": "LayoutView",
            "align_content": null,
            "align_items": null,
            "align_self": null,
            "border": null,
            "bottom": null,
            "display": null,
            "flex": null,
            "flex_flow": null,
            "grid_area": null,
            "grid_auto_columns": null,
            "grid_auto_flow": null,
            "grid_auto_rows": null,
            "grid_column": null,
            "grid_gap": null,
            "grid_row": null,
            "grid_template_areas": null,
            "grid_template_columns": null,
            "grid_template_rows": null,
            "height": null,
            "justify_content": null,
            "justify_items": null,
            "left": null,
            "margin": null,
            "max_height": null,
            "max_width": null,
            "min_height": null,
            "min_width": null,
            "object_fit": null,
            "object_position": null,
            "order": null,
            "overflow": null,
            "overflow_x": null,
            "overflow_y": null,
            "padding": null,
            "right": null,
            "top": null,
            "visibility": null,
            "width": null
          }
        },
        "f9eddeaba95442a3ae203ebf4ea41f70": {
          "model_module": "@jupyter-widgets/controls",
          "model_name": "ProgressStyleModel",
          "state": {
            "_model_module": "@jupyter-widgets/controls",
            "_model_module_version": "1.5.0",
            "_model_name": "ProgressStyleModel",
            "_view_count": null,
            "_view_module": "@jupyter-widgets/base",
            "_view_module_version": "1.2.0",
            "_view_name": "StyleView",
            "bar_color": null,
            "description_width": "initial"
          }
        },
        "e96b4554b363463d9e612006f91edf36": {
          "model_module": "@jupyter-widgets/base",
          "model_name": "LayoutModel",
          "state": {
            "_model_module": "@jupyter-widgets/base",
            "_model_module_version": "1.2.0",
            "_model_name": "LayoutModel",
            "_view_count": null,
            "_view_module": "@jupyter-widgets/base",
            "_view_module_version": "1.2.0",
            "_view_name": "LayoutView",
            "align_content": null,
            "align_items": null,
            "align_self": null,
            "border": null,
            "bottom": null,
            "display": null,
            "flex": null,
            "flex_flow": null,
            "grid_area": null,
            "grid_auto_columns": null,
            "grid_auto_flow": null,
            "grid_auto_rows": null,
            "grid_column": null,
            "grid_gap": null,
            "grid_row": null,
            "grid_template_areas": null,
            "grid_template_columns": null,
            "grid_template_rows": null,
            "height": null,
            "justify_content": null,
            "justify_items": null,
            "left": null,
            "margin": null,
            "max_height": null,
            "max_width": null,
            "min_height": null,
            "min_width": null,
            "object_fit": null,
            "object_position": null,
            "order": null,
            "overflow": null,
            "overflow_x": null,
            "overflow_y": null,
            "padding": null,
            "right": null,
            "top": null,
            "visibility": null,
            "width": null
          }
        },
        "5a1753330cc74d0f9b4206bc03031d17": {
          "model_module": "@jupyter-widgets/controls",
          "model_name": "DescriptionStyleModel",
          "state": {
            "_model_module": "@jupyter-widgets/controls",
            "_model_module_version": "1.5.0",
            "_model_name": "DescriptionStyleModel",
            "_view_count": null,
            "_view_module": "@jupyter-widgets/base",
            "_view_module_version": "1.2.0",
            "_view_name": "StyleView",
            "description_width": ""
          }
        }
      }
    }
  },
  "cells": [
    {
      "cell_type": "code",
      "metadata": {
        "id": "bQrAItQA-Z4D"
      },
      "source": [
        "%pylab inline"
      ],
      "execution_count": null,
      "outputs": []
    },
    {
      "cell_type": "code",
      "metadata": {
        "id": "Pp0arGnoplrF"
      },
      "source": [
        "import torch\n",
        "from torch import nn\n",
        "import os\n",
        "import numpy as np\n",
        "import gc\n",
        "\n",
        "from tqdm import tqdm\n",
        "\n",
        "from torchvision import datasets, transforms\n",
        "import torchvision.models as models\n",
        "from torchsummary import summary"
      ],
      "execution_count": null,
      "outputs": []
    },
    {
      "cell_type": "code",
      "metadata": {
        "id": "Ahwp4-8qrA6E"
      },
      "source": [
        "!bash get-data.sh\n",
        "!python3 split-cats.py"
      ],
      "execution_count": null,
      "outputs": []
    },
    {
      "cell_type": "code",
      "metadata": {
        "id": "yoMa6bpjqS2O"
      },
      "source": [
        "class OneClassModel(torch.nn.Module):\n",
        "\n",
        "    def __init__(self, feature_extractor, classifier):\n",
        "        super(OneClassModel, self).__init__()\n",
        "        self.features = feature_extractor\n",
        "        self.classifier = classifier\n",
        "        self.softmax = torch.nn.Softmax(dim=-1)\n",
        "\n",
        "    def forward(self, x):\n",
        "        x = self.features(x)\n",
        "        x = self.classifier(x)\n",
        "        return x\n",
        "\n",
        "    def forward_features(self, x):\n",
        "        x = self.features(x)\n",
        "        return x\n",
        "    \n",
        "    def forward_classifier(self, x):\n",
        "        x = self.classifier(x)\n",
        "        return x\n",
        "\n",
        "    def probabilities(self, x):\n",
        "        logits = self(x)\n",
        "        return self.softmax(logits)\n",
        "\n",
        "    def predict(self, x):\n",
        "        logits = self(x)\n",
        "        return torch.argmax(self.softmax(logits), axis = 1)"
      ],
      "execution_count": null,
      "outputs": []
    },
    {
      "cell_type": "code",
      "metadata": {
        "id": "hs33kjYWqTb2"
      },
      "source": [
        "image_net_transforms = transforms.Compose(\n",
        "        [\n",
        "            transforms.ToTensor(),\n",
        "            transforms.Resize(256),\n",
        "            transforms.CenterCrop(224),\n",
        "            transforms.Normalize((0.485, 0.456, 0.406), (0.229, 0.224, 0.225))\n",
        "        ]\n",
        "    )"
      ],
      "execution_count": null,
      "outputs": []
    },
    {
      "cell_type": "code",
      "metadata": {
        "id": "SEZD6CRIviGU"
      },
      "source": [
        "def compute_error_rate(model, data_loader, cuda=True):\n",
        "    model.eval()\n",
        "    num_errs = 0.0\n",
        "    num_examples = 0\n",
        "    for x, y in data_loader:\n",
        "        if cuda:\n",
        "            x = x.cuda()\n",
        "            y = y.cuda()\n",
        "\n",
        "        with torch.no_grad():\n",
        "            outputs = model.forward(x)\n",
        "            _, predictions = outputs.max(dim=1)\n",
        "            num_errs += (predictions != y).sum().item()\n",
        "            num_examples += x.size(0)\n",
        "    return 100.0 * num_errs / num_examples\n",
        "\n",
        "\n",
        "def train(\n",
        "    model, \n",
        "    data_loaders, \n",
        "    optimizer, \n",
        "    criterion, \n",
        "    num_epochs=1, \n",
        "    log_every=100, \n",
        "    cuda=True,\n",
        "    verbose=True):\n",
        "\n",
        "    if cuda:\n",
        "        model.cuda()\n",
        "\n",
        "    iter_ = 0\n",
        "    epoch = 0\n",
        "    best_params = None\n",
        "    best_val_err = np.inf\n",
        "    history = {\"train_losses\": [], \"train_errs\": [], \"val_errs\": []}\n",
        "\n",
        "    if verbose:\n",
        "        print(\"Training the model!\")\n",
        "        print(\"You can interrupt it at any time.\")\n",
        "    try:\n",
        "        while epoch < num_epochs:\n",
        "            model.train()\n",
        "            gc.collect()\n",
        "            epoch += 1\n",
        "\n",
        "            for x, y in data_loaders[\"train\"]:\n",
        "\n",
        "                if cuda:\n",
        "                    x = x.cuda()\n",
        "                    y = y.cuda()\n",
        "\n",
        "                iter_ += 1\n",
        "                optimizer.zero_grad()\n",
        "\n",
        "                ## One class Training\n",
        "                out_features = model.forward_features(x)\n",
        "                noise = torch.randn_like(out_features, device='cuda')\n",
        "\n",
        "                x_with_corrupted_data = torch.cat((out_features, noise), 0)\n",
        "                \n",
        "\n",
        "                labels_for_corrupted_data = torch.ones_like(y, device='cuda')\n",
        "                y_with_corrupted_data = torch.cat((y, labels_for_corrupted_data), 0)\n",
        "\n",
        "                out = model.forward_classifier(x_with_corrupted_data)\n",
        "\n",
        "                ###\n",
        "                loss = criterion(out, y_with_corrupted_data)\n",
        "                loss.backward()\n",
        "                optimizer.step()\n",
        "                _, predictions = out.max(dim=1)\n",
        "                err_rate = 100.0 * (predictions != y_with_corrupted_data).sum() / y_with_corrupted_data.size(0)\n",
        "\n",
        "                history[\"train_losses\"].append(loss.item())\n",
        "                history[\"train_errs\"].append(err_rate.item())\n",
        "\n",
        "                                \n",
        "                if iter_ % log_every == 0 and verbose:\n",
        "                    print(\n",
        "                        \"Minibatch {0: >6}  | loss {1: >1.5f}\".format(\n",
        "                            iter_, loss.item()\n",
        "                        )\n",
        "                    )\n",
        "\n",
        "            val_err_rate = compute_error_rate(model, data_loaders[\"test\"], cuda)\n",
        "            history[\"val_errs\"].append((iter_, val_err_rate))\n",
        "\n",
        "            if val_err_rate < best_val_err:\n",
        "        \n",
        "                best_epoch = epoch\n",
        "                best_val_err = val_err_rate\n",
        "                best_params = [p.detach().cpu() for p in model.parameters()]\n",
        "                \n",
        "            m = \"After epoch {0: >2} | valid err rate: {1: >5.2f}% | doing {2: >3} epochs\".format(\n",
        "                epoch, val_err_rate, num_epochs\n",
        "            )\n",
        "            if verbose:\n",
        "                print(\"{0}\\n{1}\\n{0}\".format(\"-\" * len(m), m))\n",
        "\n",
        "    except KeyboardInterrupt:\n",
        "        pass\n",
        "    if best_params is not None and verbose:\n",
        "        print(\"\\nLoading best params on validation set (epoch %d)\\n\" % (best_epoch))\n",
        "        with torch.no_grad():\n",
        "            for param, best_param in zip(model.parameters(), best_params):\n",
        "                param[...] = best_param\n",
        "    if verbose:\n",
        "       plot_history(history)\n",
        "\n",
        "def plot_history(history):\n",
        "    figsize(16, 4)\n",
        "    subplot(1, 2, 1)\n",
        "    train_loss = np.array(history[\"train_losses\"])\n",
        "    semilogy(np.arange(train_loss.shape[0]), train_loss, label=\"batch train loss\")\n",
        "    legend()\n",
        "\n",
        "    subplot(1, 2, 2)\n",
        "    train_errs = np.array(history[\"train_errs\"])\n",
        "    plot(np.arange(train_errs.shape[0]), train_errs, label=\"batch train error rate\")\n",
        "    val_errs = np.array(history[\"val_errs\"])\n",
        "    plot(val_errs[:, 0], val_errs[:, 1], label=\"validation error rate\", color=\"r\")\n",
        "    ylim(0, 20)\n",
        "    legend()"
      ],
      "execution_count": null,
      "outputs": []
    },
    {
      "cell_type": "code",
      "metadata": {
        "id": "TWSPjfxIsvA_"
      },
      "source": [
        "path_to_dataset = '/content'\n",
        "batch_size = 64\n",
        "\n",
        "train_dataset = datasets.ImageFolder(os.path.join(path_to_dataset , 'Train'), \n",
        "                                     transform=image_net_transforms)\n",
        "\n",
        "val_dataset = datasets.ImageFolder(os.path.join(path_to_dataset , 'Val'), \n",
        "                                     transform=image_net_transforms)\n",
        "\n",
        "test_dataset = datasets.ImageFolder(os.path.join(path_to_dataset , 'Test'), \n",
        "                                    transform=image_net_transforms)\n",
        "\n",
        "train_dataloader = torch.utils.data.DataLoader(train_dataset, \n",
        "                                               batch_size=32, \n",
        "                                               shuffle=True)\n",
        "\n",
        "val_dataloader = torch.utils.data.DataLoader(val_dataset, \n",
        "                                               batch_size=32, \n",
        "                                               shuffle=True)\n",
        "\n",
        "\n",
        "test_dataloader = torch.utils.data.DataLoader(test_dataset, \n",
        "                                              batch_size=32, \n",
        "                                              shuffle=True)\n",
        "\n",
        "train_data_loaders = {\"train\": train_dataloader, \n",
        "                      \"test\": test_dataloader}"
      ],
      "execution_count": null,
      "outputs": []
    },
    {
      "cell_type": "markdown",
      "metadata": {
        "id": "PxMj-rER3FMv"
      },
      "source": [
        "# vgg16"
      ]
    },
    {
      "cell_type": "code",
      "metadata": {
        "colab": {
          "base_uri": "https://localhost:8080/",
          "height": 104,
          "referenced_widgets": [
            "705a02066eec414284a937b6ab5744fc",
            "bd0781838e164727b89f08c48ddf9dc2",
            "9eb8eeb0fd9844feb4568bcd883687ee",
            "4fb91f42dc2f4d4db036377ff945cbd6",
            "4824c22a34ca4fd1882305c7d6484a18",
            "f9eddeaba95442a3ae203ebf4ea41f70",
            "e96b4554b363463d9e612006f91edf36",
            "5a1753330cc74d0f9b4206bc03031d17"
          ]
        },
        "id": "FzjioB2n0Edc",
        "outputId": "0d5bea35-53f5-4004-f81d-93857ab67815"
      },
      "source": [
        "vgg = models.vgg16(pretrained=True)"
      ],
      "execution_count": null,
      "outputs": [
        {
          "output_type": "stream",
          "text": [
            "Downloading: \"https://download.pytorch.org/models/vgg16-397923af.pth\" to /root/.cache/torch/hub/checkpoints/vgg16-397923af.pth\n"
          ],
          "name": "stderr"
        },
        {
          "output_type": "display_data",
          "data": {
            "application/vnd.jupyter.widget-view+json": {
              "model_id": "705a02066eec414284a937b6ab5744fc",
              "version_major": 2,
              "version_minor": 0
            },
            "text/plain": [
              "HBox(children=(FloatProgress(value=0.0, max=553433881.0), HTML(value='')))"
            ]
          },
          "metadata": {
            "tags": []
          }
        },
        {
          "output_type": "stream",
          "text": [
            "\n"
          ],
          "name": "stdout"
        }
      ]
    },
    {
      "cell_type": "code",
      "metadata": {
        "id": "v2U6yBnB0Whv"
      },
      "source": [
        "features = nn.Sequential(vgg.features, nn.Flatten(), vgg.classifier[0])\n",
        "classifier = nn.Sequential(nn.ReLU(),\n",
        "                           nn.Linear(4096,1024),\n",
        "                           nn.ReLU(),\n",
        "                           nn.Linear(1024,512),\n",
        "                           nn.ReLU(),\n",
        "                           nn.Linear(512,2))\n",
        "\n",
        "model = OneClassModel(features,classifier)\n",
        "\n",
        "for p in model.features.parameters():\n",
        "    p.requires_grad = False\n",
        "\n",
        "\n",
        "for p in model.classifier.parameters():\n",
        "    p.requires_grad = True\n",
        "\n",
        "criterion = (nn.CrossEntropyLoss()) \n",
        "\n",
        "optimizer = torch.optim.Adam(model.classifier.parameters(), lr=0.0001)"
      ],
      "execution_count": null,
      "outputs": []
    },
    {
      "cell_type": "code",
      "metadata": {
        "colab": {
          "base_uri": "https://localhost:8080/"
        },
        "id": "1URAm_UvO682",
        "outputId": "c4dedbd8-b602-427b-b4d7-968fdef9e0ef"
      },
      "source": [
        "summary(model.cuda(), (3,224,224))"
      ],
      "execution_count": null,
      "outputs": [
        {
          "output_type": "stream",
          "text": [
            "----------------------------------------------------------------\n",
            "        Layer (type)               Output Shape         Param #\n",
            "================================================================\n",
            "            Conv2d-1         [-1, 64, 224, 224]           1,792\n",
            "              ReLU-2         [-1, 64, 224, 224]               0\n",
            "            Conv2d-3         [-1, 64, 224, 224]          36,928\n",
            "              ReLU-4         [-1, 64, 224, 224]               0\n",
            "         MaxPool2d-5         [-1, 64, 112, 112]               0\n",
            "            Conv2d-6        [-1, 128, 112, 112]          73,856\n",
            "              ReLU-7        [-1, 128, 112, 112]               0\n",
            "            Conv2d-8        [-1, 128, 112, 112]         147,584\n",
            "              ReLU-9        [-1, 128, 112, 112]               0\n",
            "        MaxPool2d-10          [-1, 128, 56, 56]               0\n",
            "           Conv2d-11          [-1, 256, 56, 56]         295,168\n",
            "             ReLU-12          [-1, 256, 56, 56]               0\n",
            "           Conv2d-13          [-1, 256, 56, 56]         590,080\n",
            "             ReLU-14          [-1, 256, 56, 56]               0\n",
            "           Conv2d-15          [-1, 256, 56, 56]         590,080\n",
            "             ReLU-16          [-1, 256, 56, 56]               0\n",
            "        MaxPool2d-17          [-1, 256, 28, 28]               0\n",
            "           Conv2d-18          [-1, 512, 28, 28]       1,180,160\n",
            "             ReLU-19          [-1, 512, 28, 28]               0\n",
            "           Conv2d-20          [-1, 512, 28, 28]       2,359,808\n",
            "             ReLU-21          [-1, 512, 28, 28]               0\n",
            "           Conv2d-22          [-1, 512, 28, 28]       2,359,808\n",
            "             ReLU-23          [-1, 512, 28, 28]               0\n",
            "        MaxPool2d-24          [-1, 512, 14, 14]               0\n",
            "           Conv2d-25          [-1, 512, 14, 14]       2,359,808\n",
            "             ReLU-26          [-1, 512, 14, 14]               0\n",
            "           Conv2d-27          [-1, 512, 14, 14]       2,359,808\n",
            "             ReLU-28          [-1, 512, 14, 14]               0\n",
            "           Conv2d-29          [-1, 512, 14, 14]       2,359,808\n",
            "             ReLU-30          [-1, 512, 14, 14]               0\n",
            "        MaxPool2d-31            [-1, 512, 7, 7]               0\n",
            "          Flatten-32                [-1, 25088]               0\n",
            "           Linear-33                 [-1, 4096]     102,764,544\n",
            "             ReLU-34                 [-1, 4096]               0\n",
            "           Linear-35                 [-1, 1024]       4,195,328\n",
            "             ReLU-36                 [-1, 1024]               0\n",
            "           Linear-37                  [-1, 512]         524,800\n",
            "             ReLU-38                  [-1, 512]               0\n",
            "           Linear-39                    [-1, 2]           1,026\n",
            "================================================================\n",
            "Total params: 122,200,386\n",
            "Trainable params: 4,721,154\n",
            "Non-trainable params: 117,479,232\n",
            "----------------------------------------------------------------\n",
            "Input size (MB): 0.57\n",
            "Forward/backward pass size (MB): 218.67\n",
            "Params size (MB): 466.16\n",
            "Estimated Total Size (MB): 685.40\n",
            "----------------------------------------------------------------\n"
          ],
          "name": "stdout"
        }
      ]
    },
    {
      "cell_type": "code",
      "metadata": {
        "colab": {
          "background_save": true,
          "base_uri": "https://localhost:8080/"
        },
        "id": "JCSfX1uqznxk",
        "outputId": "301ef431-827e-4a47-dbfa-50f0eccbc64b"
      },
      "source": [
        "train(\n",
        "    model, \n",
        "    train_data_loaders, \n",
        "    optimizer, \n",
        "    criterion, \n",
        "    num_epochs=20, \n",
        "    log_every=100, \n",
        "    cuda=True,\n",
        "    verbose=True)"
      ],
      "execution_count": null,
      "outputs": [
        {
          "output_type": "stream",
          "text": [
            "Training the model!\n",
            "You can interrupt it at any time.\n",
            "Minibatch    100  | loss 0.00164\n",
            "Minibatch    200  | loss 0.00002\n",
            "Minibatch    300  | loss 0.00002\n",
            "----------------------------------------------------------\n",
            "After epoch  1 | valid err rate:  9.92% | doing  20 epochs\n",
            "----------------------------------------------------------\n",
            "Minibatch    400  | loss 0.00001\n",
            "Minibatch    500  | loss 0.00001\n",
            "Minibatch    600  | loss 0.00035\n",
            "----------------------------------------------------------\n",
            "After epoch  2 | valid err rate:  9.82% | doing  20 epochs\n",
            "----------------------------------------------------------\n",
            "Minibatch    700  | loss 0.00000\n",
            "Minibatch    800  | loss 0.00000\n",
            "Minibatch    900  | loss 0.00000\n",
            "----------------------------------------------------------\n",
            "After epoch  3 | valid err rate:  8.59% | doing  20 epochs\n",
            "----------------------------------------------------------\n",
            "Minibatch   1000  | loss 0.00001\n",
            "Minibatch   1100  | loss 0.00000\n",
            "Minibatch   1200  | loss 0.00001\n",
            "Minibatch   1300  | loss 0.00000\n",
            "----------------------------------------------------------\n",
            "After epoch  4 | valid err rate:  8.34% | doing  20 epochs\n",
            "----------------------------------------------------------\n",
            "Minibatch   1400  | loss 0.00000\n",
            "Minibatch   1500  | loss 0.00000\n",
            "Minibatch   1600  | loss 0.00000\n",
            "----------------------------------------------------------\n",
            "After epoch  5 | valid err rate:  8.05% | doing  20 epochs\n",
            "----------------------------------------------------------\n",
            "Minibatch   1700  | loss 0.00000\n",
            "Minibatch   1800  | loss 0.00000\n",
            "\n",
            "Loading best params on validation set (epoch 5)\n",
            "\n"
          ],
          "name": "stdout"
        },
        {
          "output_type": "display_data",
          "data": {
            "image/png": "[encoded data removed]",
            "text/plain": [
              "<Figure size 1152x288 with 2 Axes>"
            ]
          },
          "metadata": {
            "tags": []
          }
        }
      ]
    }
  ]
}